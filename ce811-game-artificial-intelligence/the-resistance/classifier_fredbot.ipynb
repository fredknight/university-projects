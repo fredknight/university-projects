{
 "cells": [
  {
   "cell_type": "markdown",
   "metadata": {},
   "source": [
    "### Code to train a neural network based on our loggerbot's csv output\n",
    "\n",
    "First we load the log file in csv format.  This assumes our columns are stored in the order exactly as below, and also that there is no contamination (e.g. other print statements) in the csv file:"
   ]
  },
  {
   "cell_type": "code",
   "execution_count": 1,
   "metadata": {},
   "outputs": [],
   "source": [
    "import pandas as pd\n",
    "df0=pd.read_csv(\"FredBot.log\",names=[\"Turn\",\"Try\",\"PlayerID\",\"PlayerName\",\"MissionsBeenOn\",\"FailedMissionsBeenOn\",\"VotedUp0\",\"VotedUp1\",\"VotedUp2\",\"VotedUp3\",\"VotedUp4\",\"VotedUp5\",\"VotedDown0\",\"VotedDown1\",\"VotedDown2\",\"VotedDown3\",\"VotedDown4\",\"VotedDown5\",\"Spy\"])"
   ]
  },
  {
   "cell_type": "code",
   "execution_count": 2,
   "metadata": {},
   "outputs": [
    {
     "name": "stdout",
     "output_type": "stream",
     "text": [
      "   Turn  Try  PlayerID  PlayerName  MissionsBeenOn  FailedMissionsBeenOn  \\\n",
      "0     1    1         0  Logicalton               0                     0   \n",
      "1     2    1         0  Logicalton               1                     1   \n",
      "2     2    2         0  Logicalton               1                     1   \n",
      "3     3    1         0  Logicalton               1                     1   \n",
      "4     1    1         1     FredBot               0                     0   \n",
      "\n",
      "   VotedUp0  VotedUp1  VotedUp2  VotedUp3  VotedUp4  VotedUp5  VotedDown0  \\\n",
      "0         1         0         0         0         0         0           0   \n",
      "1         1         0         0         0         0         0           0   \n",
      "2         1         0         0         0         0         0           0   \n",
      "3         1         1         0         0         0         0           0   \n",
      "4         1         0         0         0         0         0           0   \n",
      "\n",
      "   VotedDown1  VotedDown2  VotedDown3  VotedDown4  VotedDown5  Spy  \n",
      "0           0           0           0           0           0    0  \n",
      "1           0           1           0           0           0    0  \n",
      "2           1           1           0           0           0    0  \n",
      "3           1           1           0           0           0    0  \n",
      "4           0           0           0           0           0    1  \n"
     ]
    }
   ],
   "source": [
    "print(df0.head())"
   ]
  },
  {
   "cell_type": "code",
   "execution_count": 3,
   "metadata": {},
   "outputs": [
    {
     "name": "stdout",
     "output_type": "stream",
     "text": [
      "   Turn  Try  PlayerID  PlayerName  MissionsBeenOn  FailedMissionsBeenOn  \\\n",
      "0     1    1         0  Logicalton               0                     0   \n",
      "1     2    1         0  Logicalton               1                     1   \n",
      "2     2    2         0  Logicalton               1                     1   \n",
      "3     3    1         0  Logicalton               1                     1   \n",
      "8     1    1         2   Simpleton               0                     0   \n",
      "\n",
      "   VotedUp0  VotedUp1  VotedUp2  VotedUp3  VotedUp4  VotedUp5  VotedDown0  \\\n",
      "0         1         0         0         0         0         0           0   \n",
      "1         1         0         0         0         0         0           0   \n",
      "2         1         0         0         0         0         0           0   \n",
      "3         1         1         0         0         0         0           0   \n",
      "8         1         0         0         0         0         0           0   \n",
      "\n",
      "   VotedDown1  VotedDown2  VotedDown3  VotedDown4  VotedDown5  Spy  \n",
      "0           0           0           0           0           0    0  \n",
      "1           0           1           0           0           0    0  \n",
      "2           1           1           0           0           0    0  \n",
      "3           1           1           0           0           0    0  \n",
      "8           0           0           0           0           0    0  \n"
     ]
    }
   ],
   "source": [
    "df=df0.query(\"PlayerName in ['Bounder', 'Logicalton', 'Simpleton', 'Trickerton']\")\n",
    "print(df.head())"
   ]
  },
  {
   "cell_type": "code",
   "execution_count": 4,
   "metadata": {},
   "outputs": [
    {
     "name": "stdout",
     "output_type": "stream",
     "text": [
      "                Turn            Try       PlayerID  MissionsBeenOn  \\\n",
      "count  191708.000000  191708.000000  191708.000000   191708.000000   \n",
      "mean        2.743235       1.202099       1.998221        0.842850   \n",
      "std         1.279829       0.533607       1.416801        0.874854   \n",
      "min         1.000000       1.000000       0.000000        0.000000   \n",
      "25%         2.000000       1.000000       1.000000        0.000000   \n",
      "50%         3.000000       1.000000       2.000000        1.000000   \n",
      "75%         4.000000       1.000000       3.000000        1.000000   \n",
      "max         5.000000       5.000000       4.000000        4.000000   \n",
      "\n",
      "       FailedMissionsBeenOn       VotedUp0       VotedUp1       VotedUp2  \\\n",
      "count         191708.000000  191708.000000  191708.000000  191708.000000   \n",
      "mean               0.506140       1.243975       0.461900       0.199094   \n",
      "std                0.623288       0.690986       0.644781       0.477940   \n",
      "min                0.000000       0.000000       0.000000       0.000000   \n",
      "25%                0.000000       1.000000       0.000000       0.000000   \n",
      "50%                0.000000       1.000000       0.000000       0.000000   \n",
      "75%                1.000000       2.000000       1.000000       0.000000   \n",
      "max                2.000000       8.000000       6.000000       5.000000   \n",
      "\n",
      "            VotedUp3       VotedUp4       VotedUp5     VotedDown0  \\\n",
      "count  191708.000000  191708.000000  191708.000000  191708.000000   \n",
      "mean        0.081389       0.011669       0.000360       0.438876   \n",
      "std         0.310488       0.113851       0.019511       0.675434   \n",
      "min         0.000000       0.000000       0.000000       0.000000   \n",
      "25%         0.000000       0.000000       0.000000       0.000000   \n",
      "50%         0.000000       0.000000       0.000000       0.000000   \n",
      "75%         0.000000       0.000000       0.000000       1.000000   \n",
      "max         4.000000       3.000000       2.000000       7.000000   \n",
      "\n",
      "          VotedDown1     VotedDown2     VotedDown3     VotedDown4  \\\n",
      "count  191708.000000  191708.000000  191708.000000  191708.000000   \n",
      "mean        0.324045       0.213658       0.122734       0.038720   \n",
      "std         0.607985       0.525602       0.395924       0.211748   \n",
      "min         0.000000       0.000000       0.000000       0.000000   \n",
      "25%         0.000000       0.000000       0.000000       0.000000   \n",
      "50%         0.000000       0.000000       0.000000       0.000000   \n",
      "75%         1.000000       0.000000       0.000000       0.000000   \n",
      "max         8.000000       9.000000       5.000000       3.000000   \n",
      "\n",
      "          VotedDown5            Spy  \n",
      "count  191708.000000  191708.000000  \n",
      "mean        0.001101       0.401793  \n",
      "std         0.034088       0.490262  \n",
      "min         0.000000       0.000000  \n",
      "25%         0.000000       0.000000  \n",
      "50%         0.000000       0.000000  \n",
      "75%         0.000000       1.000000  \n",
      "max         2.000000       1.000000  \n"
     ]
    }
   ],
   "source": [
    "print(df.describe())"
   ]
  },
  {
   "cell_type": "code",
   "execution_count": 5,
   "metadata": {},
   "outputs": [
    {
     "name": "stdout",
     "output_type": "stream",
     "text": [
      "(191708,)\n",
      "[0 0 0 0 0 0]\n",
      "[[0. 0. 1. 0. 0. 0. 0. 0. 0. 0. 0. 0. 0. 0.]\n",
      " [1. 1. 1. 0. 0. 0. 0. 0. 0. 0. 1. 0. 0. 0.]\n",
      " [1. 1. 1. 0. 0. 0. 0. 0. 0. 1. 1. 0. 0. 0.]\n",
      " [1. 1. 1. 1. 0. 0. 0. 0. 0. 1. 1. 0. 0. 0.]\n",
      " [0. 0. 1. 0. 0. 0. 0. 0. 0. 0. 0. 0. 0. 0.]\n",
      " [0. 0. 1. 0. 0. 0. 0. 0. 0. 0. 1. 0. 0. 0.]]\n"
     ]
    }
   ],
   "source": [
    "import numpy as np \n",
    "x_train=df.values[:,4:18].astype(np.float32)\n",
    "y_train=df.values[:,18].astype(np.int32)\n",
    "print(y_train.shape)\n",
    "print(y_train[0:6])\n",
    "print(x_train[0:6])\n",
    "num_inputs=x_train.shape[1]\n",
    "num_outputs=2"
   ]
  },
  {
   "cell_type": "code",
   "execution_count": 6,
   "metadata": {},
   "outputs": [],
   "source": [
    "dataset_size=len(x_train)\n",
    "train_set_size=int(dataset_size*0.6)\n",
    "x_val,y_val=x_train[train_set_size:],y_train[train_set_size:]\n",
    "x_train,y_train=x_train[:train_set_size],y_train[:train_set_size]"
   ]
  },
  {
   "cell_type": "code",
   "execution_count": 7,
   "metadata": {},
   "outputs": [
    {
     "name": "stdout",
     "output_type": "stream",
     "text": [
      "tf.Tensor(\n",
      "[[0.48803967 0.5119604 ]\n",
      " [0.48689905 0.5131009 ]\n",
      " [0.55958194 0.440418  ]\n",
      " [0.5464086  0.45359135]\n",
      " [0.48803964 0.5119604 ]], shape=(5, 2), dtype=float32)\n"
     ]
    }
   ],
   "source": [
    "import tensorflow as tf\n",
    "from tensorflow import keras\n",
    "from tensorflow.keras import layers\n",
    "\n",
    "model = keras.Sequential(name=\"my_neural_network\")\n",
    "layer1=layers.Dense(12, activation=\"relu\", input_shape=(num_inputs,))\n",
    "model.add(layer1)\n",
    "layer2=layers.Dense(12, activation=\"relu\")\n",
    "model.add(layer2)\n",
    "layer3=layers.Dense(12, activation=\"relu\")\n",
    "model.add(layer3)\n",
    "layer4=layers.Dense(12, activation=\"relu\")\n",
    "model.add(layer4)\n",
    "layer5=layers.Dense(num_outputs, activation=\"softmax\")\n",
    "model.add(layer5)\n",
    "\n",
    "print(model(x_train[0:5]))"
   ]
  },
  {
   "cell_type": "code",
   "execution_count": 8,
   "metadata": {},
   "outputs": [],
   "source": [
    "model.compile(\n",
    "    optimizer=keras.optimizers.Adam(0.00001),\n",
    "    loss=keras.losses.SparseCategoricalCrossentropy(from_logits=False),\n",
    "    metrics='accuracy'\n",
    ")"
   ]
  },
  {
   "cell_type": "code",
   "execution_count": 9,
   "metadata": {},
   "outputs": [
    {
     "name": "stdout",
     "output_type": "stream",
     "text": [
      "Epoch 1/144\n",
      "3595/3595 [==============================] - 4s 968us/step - loss: 0.6691 - accuracy: 0.5890 - val_loss: 0.6629 - val_accuracy: 0.5997\n",
      "Epoch 2/144\n",
      "3595/3595 [==============================] - 3s 918us/step - loss: 0.6594 - accuracy: 0.5991 - val_loss: 0.6559 - val_accuracy: 0.5988\n",
      "Epoch 3/144\n",
      "3595/3595 [==============================] - 4s 1ms/step - loss: 0.6521 - accuracy: 0.6013 - val_loss: 0.6482 - val_accuracy: 0.6030\n",
      "Epoch 4/144\n",
      "3595/3595 [==============================] - 4s 977us/step - loss: 0.6429 - accuracy: 0.6102 - val_loss: 0.6375 - val_accuracy: 0.6188\n",
      "Epoch 5/144\n",
      "3595/3595 [==============================] - 4s 1ms/step - loss: 0.6309 - accuracy: 0.6259 - val_loss: 0.6238 - val_accuracy: 0.6295\n",
      "Epoch 6/144\n",
      "3595/3595 [==============================] - 5s 1ms/step - loss: 0.6158 - accuracy: 0.6369 - val_loss: 0.6072 - val_accuracy: 0.6434\n",
      "Epoch 7/144\n",
      "3595/3595 [==============================] - 4s 1ms/step - loss: 0.5987 - accuracy: 0.6531 - val_loss: 0.5896 - val_accuracy: 0.6603\n",
      "Epoch 8/144\n",
      "3595/3595 [==============================] - 4s 1ms/step - loss: 0.5817 - accuracy: 0.6695 - val_loss: 0.5739 - val_accuracy: 0.6779\n",
      "Epoch 9/144\n",
      "3595/3595 [==============================] - 4s 1ms/step - loss: 0.5680 - accuracy: 0.6833 - val_loss: 0.5620 - val_accuracy: 0.6908\n",
      "Epoch 10/144\n",
      "3595/3595 [==============================] - 4s 1ms/step - loss: 0.5581 - accuracy: 0.6927 - val_loss: 0.5539 - val_accuracy: 0.6953\n",
      "Epoch 11/144\n",
      "3595/3595 [==============================] - 4s 1ms/step - loss: 0.5517 - accuracy: 0.6965 - val_loss: 0.5486 - val_accuracy: 0.6983\n",
      "Epoch 12/144\n",
      "3595/3595 [==============================] - 4s 1ms/step - loss: 0.5475 - accuracy: 0.6986 - val_loss: 0.5451 - val_accuracy: 0.6997\n",
      "Epoch 13/144\n",
      "3595/3595 [==============================] - 4s 1ms/step - loss: 0.5448 - accuracy: 0.7017 - val_loss: 0.5428 - val_accuracy: 0.7015\n",
      "Epoch 14/144\n",
      "3595/3595 [==============================] - 4s 1ms/step - loss: 0.5430 - accuracy: 0.7025 - val_loss: 0.5413 - val_accuracy: 0.7028\n",
      "Epoch 15/144\n",
      "3595/3595 [==============================] - 4s 1ms/step - loss: 0.5418 - accuracy: 0.7034 - val_loss: 0.5402 - val_accuracy: 0.7030\n",
      "Epoch 16/144\n",
      "3595/3595 [==============================] - 4s 1ms/step - loss: 0.5409 - accuracy: 0.7042 - val_loss: 0.5394 - val_accuracy: 0.7040\n",
      "Epoch 17/144\n",
      "3595/3595 [==============================] - 4s 1ms/step - loss: 0.5402 - accuracy: 0.7044 - val_loss: 0.5387 - val_accuracy: 0.7045\n",
      "Epoch 18/144\n",
      "3595/3595 [==============================] - 4s 1ms/step - loss: 0.5396 - accuracy: 0.7046 - val_loss: 0.5381 - val_accuracy: 0.7047\n",
      "Epoch 19/144\n",
      "3595/3595 [==============================] - 4s 1ms/step - loss: 0.5390 - accuracy: 0.7049 - val_loss: 0.5375 - val_accuracy: 0.7047\n",
      "Epoch 20/144\n",
      "3595/3595 [==============================] - 4s 1ms/step - loss: 0.5385 - accuracy: 0.7051 - val_loss: 0.5371 - val_accuracy: 0.7046\n",
      "Epoch 21/144\n",
      "3595/3595 [==============================] - 4s 1ms/step - loss: 0.5380 - accuracy: 0.7051 - val_loss: 0.5367 - val_accuracy: 0.7048\n",
      "Epoch 22/144\n",
      "3595/3595 [==============================] - 4s 1ms/step - loss: 0.5376 - accuracy: 0.7053 - val_loss: 0.5362 - val_accuracy: 0.7046\n",
      "Epoch 23/144\n",
      "3595/3595 [==============================] - 4s 1ms/step - loss: 0.5372 - accuracy: 0.7054 - val_loss: 0.5358 - val_accuracy: 0.7046\n",
      "Epoch 24/144\n",
      "3595/3595 [==============================] - 4s 1ms/step - loss: 0.5368 - accuracy: 0.7055 - val_loss: 0.5354 - val_accuracy: 0.7046\n",
      "Epoch 25/144\n",
      "3595/3595 [==============================] - 4s 1ms/step - loss: 0.5364 - accuracy: 0.7054 - val_loss: 0.5351 - val_accuracy: 0.7048\n",
      "Epoch 26/144\n",
      "3595/3595 [==============================] - 4s 1ms/step - loss: 0.5361 - accuracy: 0.7055 - val_loss: 0.5347 - val_accuracy: 0.7048\n",
      "Epoch 27/144\n",
      "3595/3595 [==============================] - 4s 1ms/step - loss: 0.5357 - accuracy: 0.7055 - val_loss: 0.5344 - val_accuracy: 0.7052\n",
      "Epoch 28/144\n",
      "3595/3595 [==============================] - 4s 1ms/step - loss: 0.5354 - accuracy: 0.7056 - val_loss: 0.5341 - val_accuracy: 0.7052\n",
      "Epoch 29/144\n",
      "3595/3595 [==============================] - 4s 1ms/step - loss: 0.5351 - accuracy: 0.7057 - val_loss: 0.5337 - val_accuracy: 0.7051\n",
      "Epoch 30/144\n",
      "3595/3595 [==============================] - 4s 1ms/step - loss: 0.5347 - accuracy: 0.7058 - val_loss: 0.5334 - val_accuracy: 0.7052\n",
      "Epoch 31/144\n",
      "3595/3595 [==============================] - 4s 1ms/step - loss: 0.5344 - accuracy: 0.7056 - val_loss: 0.5331 - val_accuracy: 0.7052\n",
      "Epoch 32/144\n",
      "3595/3595 [==============================] - 4s 1ms/step - loss: 0.5341 - accuracy: 0.7057 - val_loss: 0.5328 - val_accuracy: 0.7050\n",
      "Epoch 33/144\n",
      "3595/3595 [==============================] - 4s 1ms/step - loss: 0.5338 - accuracy: 0.7058 - val_loss: 0.5325 - val_accuracy: 0.7052\n",
      "Epoch 34/144\n",
      "3595/3595 [==============================] - 4s 1ms/step - loss: 0.5335 - accuracy: 0.7056 - val_loss: 0.5323 - val_accuracy: 0.7052\n",
      "Epoch 35/144\n",
      "3595/3595 [==============================] - 4s 1ms/step - loss: 0.5332 - accuracy: 0.7056 - val_loss: 0.5319 - val_accuracy: 0.7045\n",
      "Epoch 36/144\n",
      "3595/3595 [==============================] - 4s 1ms/step - loss: 0.5329 - accuracy: 0.7053 - val_loss: 0.5317 - val_accuracy: 0.7049\n",
      "Epoch 37/144\n",
      "3595/3595 [==============================] - 4s 1ms/step - loss: 0.5326 - accuracy: 0.7055 - val_loss: 0.5314 - val_accuracy: 0.7045\n",
      "Epoch 38/144\n",
      "3595/3595 [==============================] - 4s 1ms/step - loss: 0.5324 - accuracy: 0.7055 - val_loss: 0.5311 - val_accuracy: 0.7046\n",
      "Epoch 39/144\n",
      "3595/3595 [==============================] - 4s 1ms/step - loss: 0.5321 - accuracy: 0.7052 - val_loss: 0.5309 - val_accuracy: 0.7048\n",
      "Epoch 40/144\n",
      "3595/3595 [==============================] - 4s 1ms/step - loss: 0.5319 - accuracy: 0.7054 - val_loss: 0.5307 - val_accuracy: 0.7046\n",
      "Epoch 41/144\n",
      "3595/3595 [==============================] - 4s 1ms/step - loss: 0.5316 - accuracy: 0.7055 - val_loss: 0.5304 - val_accuracy: 0.7049\n",
      "Epoch 42/144\n",
      "3595/3595 [==============================] - 4s 1ms/step - loss: 0.5314 - accuracy: 0.7056 - val_loss: 0.5302 - val_accuracy: 0.7049\n",
      "Epoch 43/144\n",
      "3595/3595 [==============================] - 4s 1ms/step - loss: 0.5312 - accuracy: 0.7058 - val_loss: 0.5300 - val_accuracy: 0.7048\n",
      "Epoch 44/144\n",
      "3595/3595 [==============================] - 4s 1ms/step - loss: 0.5309 - accuracy: 0.7057 - val_loss: 0.5298 - val_accuracy: 0.7048\n",
      "Epoch 45/144\n",
      "3595/3595 [==============================] - 4s 1ms/step - loss: 0.5307 - accuracy: 0.7058 - val_loss: 0.5296 - val_accuracy: 0.7048\n",
      "Epoch 46/144\n",
      "3595/3595 [==============================] - 4s 1ms/step - loss: 0.5306 - accuracy: 0.7059 - val_loss: 0.5294 - val_accuracy: 0.7048\n",
      "Epoch 47/144\n",
      "3595/3595 [==============================] - 4s 1ms/step - loss: 0.5304 - accuracy: 0.7060 - val_loss: 0.5292 - val_accuracy: 0.7049\n",
      "Epoch 48/144\n",
      "3595/3595 [==============================] - 4s 1ms/step - loss: 0.5302 - accuracy: 0.7061 - val_loss: 0.5291 - val_accuracy: 0.7049\n",
      "Epoch 49/144\n",
      "3595/3595 [==============================] - 4s 1ms/step - loss: 0.5300 - accuracy: 0.7059 - val_loss: 0.5289 - val_accuracy: 0.7049\n",
      "Epoch 50/144\n",
      "3595/3595 [==============================] - 4s 1ms/step - loss: 0.5299 - accuracy: 0.7059 - val_loss: 0.5287 - val_accuracy: 0.7049\n",
      "Epoch 51/144\n",
      "3595/3595 [==============================] - 4s 1ms/step - loss: 0.5297 - accuracy: 0.7061 - val_loss: 0.5286 - val_accuracy: 0.7057\n",
      "Epoch 52/144\n",
      "3595/3595 [==============================] - 4s 1ms/step - loss: 0.5296 - accuracy: 0.7063 - val_loss: 0.5284 - val_accuracy: 0.7050\n",
      "Epoch 53/144\n",
      "3595/3595 [==============================] - 4s 1ms/step - loss: 0.5294 - accuracy: 0.7063 - val_loss: 0.5283 - val_accuracy: 0.7049\n",
      "Epoch 54/144\n",
      "3595/3595 [==============================] - 4s 1ms/step - loss: 0.5293 - accuracy: 0.7064 - val_loss: 0.5281 - val_accuracy: 0.7057\n",
      "Epoch 55/144\n",
      "3595/3595 [==============================] - 4s 1ms/step - loss: 0.5291 - accuracy: 0.7067 - val_loss: 0.5280 - val_accuracy: 0.7057\n",
      "Epoch 56/144\n",
      "3595/3595 [==============================] - 4s 1ms/step - loss: 0.5290 - accuracy: 0.7067 - val_loss: 0.5279 - val_accuracy: 0.7057\n",
      "Epoch 57/144\n"
     ]
    },
    {
     "name": "stdout",
     "output_type": "stream",
     "text": [
      "3595/3595 [==============================] - 4s 1ms/step - loss: 0.5289 - accuracy: 0.7070 - val_loss: 0.5278 - val_accuracy: 0.7053\n",
      "Epoch 58/144\n",
      "3595/3595 [==============================] - 4s 1ms/step - loss: 0.5288 - accuracy: 0.7068 - val_loss: 0.5276 - val_accuracy: 0.7057\n",
      "Epoch 59/144\n",
      "3595/3595 [==============================] - 4s 1ms/step - loss: 0.5286 - accuracy: 0.7071 - val_loss: 0.5275 - val_accuracy: 0.7058\n",
      "Epoch 60/144\n",
      "3595/3595 [==============================] - 4s 1ms/step - loss: 0.5285 - accuracy: 0.7070 - val_loss: 0.5273 - val_accuracy: 0.7059\n",
      "Epoch 61/144\n",
      "3595/3595 [==============================] - 4s 1ms/step - loss: 0.5283 - accuracy: 0.7067 - val_loss: 0.5272 - val_accuracy: 0.7058\n",
      "Epoch 62/144\n",
      "3595/3595 [==============================] - 4s 1ms/step - loss: 0.5282 - accuracy: 0.7070 - val_loss: 0.5270 - val_accuracy: 0.7058\n",
      "Epoch 63/144\n",
      "3595/3595 [==============================] - 4s 1ms/step - loss: 0.5280 - accuracy: 0.7070 - val_loss: 0.5269 - val_accuracy: 0.7058\n",
      "Epoch 64/144\n",
      "3595/3595 [==============================] - 4s 1ms/step - loss: 0.5278 - accuracy: 0.7070 - val_loss: 0.5267 - val_accuracy: 0.7064\n",
      "Epoch 65/144\n",
      "3595/3595 [==============================] - 4s 1ms/step - loss: 0.5277 - accuracy: 0.7073 - val_loss: 0.5266 - val_accuracy: 0.7058\n",
      "Epoch 66/144\n",
      "3595/3595 [==============================] - 4s 1ms/step - loss: 0.5275 - accuracy: 0.7074 - val_loss: 0.5265 - val_accuracy: 0.7068\n",
      "Epoch 67/144\n",
      "3595/3595 [==============================] - 4s 1ms/step - loss: 0.5274 - accuracy: 0.7075 - val_loss: 0.5263 - val_accuracy: 0.7067\n",
      "Epoch 68/144\n",
      "3595/3595 [==============================] - 4s 1ms/step - loss: 0.5272 - accuracy: 0.7078 - val_loss: 0.5262 - val_accuracy: 0.7064\n",
      "Epoch 69/144\n",
      "3595/3595 [==============================] - 4s 1ms/step - loss: 0.5271 - accuracy: 0.7074 - val_loss: 0.5261 - val_accuracy: 0.7059\n",
      "Epoch 70/144\n",
      "3595/3595 [==============================] - 4s 1ms/step - loss: 0.5270 - accuracy: 0.7075 - val_loss: 0.5260 - val_accuracy: 0.7066\n",
      "Epoch 71/144\n",
      "3595/3595 [==============================] - 4s 1ms/step - loss: 0.5269 - accuracy: 0.7075 - val_loss: 0.5259 - val_accuracy: 0.7070\n",
      "Epoch 72/144\n",
      "3595/3595 [==============================] - 4s 1ms/step - loss: 0.5268 - accuracy: 0.7072 - val_loss: 0.5257 - val_accuracy: 0.7065\n",
      "Epoch 73/144\n",
      "3595/3595 [==============================] - 4s 1ms/step - loss: 0.5266 - accuracy: 0.7076 - val_loss: 0.5256 - val_accuracy: 0.7067\n",
      "Epoch 74/144\n",
      "3595/3595 [==============================] - 4s 1ms/step - loss: 0.5265 - accuracy: 0.7075 - val_loss: 0.5255 - val_accuracy: 0.7064\n",
      "Epoch 75/144\n",
      "3595/3595 [==============================] - 4s 1ms/step - loss: 0.5264 - accuracy: 0.7073 - val_loss: 0.5254 - val_accuracy: 0.7070\n",
      "Epoch 76/144\n",
      "3595/3595 [==============================] - 4s 1ms/step - loss: 0.5263 - accuracy: 0.7075 - val_loss: 0.5253 - val_accuracy: 0.7065\n",
      "Epoch 77/144\n",
      "3595/3595 [==============================] - 4s 1ms/step - loss: 0.5262 - accuracy: 0.7074 - val_loss: 0.5252 - val_accuracy: 0.7068\n",
      "Epoch 78/144\n",
      "3595/3595 [==============================] - 4s 1ms/step - loss: 0.5261 - accuracy: 0.7074 - val_loss: 0.5251 - val_accuracy: 0.7071\n",
      "Epoch 79/144\n",
      "3595/3595 [==============================] - 4s 1ms/step - loss: 0.5260 - accuracy: 0.7075 - val_loss: 0.5250 - val_accuracy: 0.7068\n",
      "Epoch 80/144\n",
      "3595/3595 [==============================] - 4s 1ms/step - loss: 0.5259 - accuracy: 0.7072 - val_loss: 0.5250 - val_accuracy: 0.7048\n",
      "Epoch 81/144\n",
      "3595/3595 [==============================] - 4s 1ms/step - loss: 0.5258 - accuracy: 0.7067 - val_loss: 0.5248 - val_accuracy: 0.7073\n",
      "Epoch 82/144\n",
      "3595/3595 [==============================] - 4s 1ms/step - loss: 0.5257 - accuracy: 0.7072 - val_loss: 0.5247 - val_accuracy: 0.7049\n",
      "Epoch 83/144\n",
      "3595/3595 [==============================] - 4s 1ms/step - loss: 0.5256 - accuracy: 0.7073 - val_loss: 0.5247 - val_accuracy: 0.7072\n",
      "Epoch 84/144\n",
      "3595/3595 [==============================] - 4s 1ms/step - loss: 0.5255 - accuracy: 0.7071 - val_loss: 0.5246 - val_accuracy: 0.7076\n",
      "Epoch 85/144\n",
      "3595/3595 [==============================] - 4s 1ms/step - loss: 0.5254 - accuracy: 0.7071 - val_loss: 0.5245 - val_accuracy: 0.7057\n",
      "Epoch 86/144\n",
      "3595/3595 [==============================] - 4s 1ms/step - loss: 0.5253 - accuracy: 0.7071 - val_loss: 0.5244 - val_accuracy: 0.7076\n",
      "Epoch 87/144\n",
      "3595/3595 [==============================] - 4s 1ms/step - loss: 0.5253 - accuracy: 0.7073 - val_loss: 0.5243 - val_accuracy: 0.7057\n",
      "Epoch 88/144\n",
      "3595/3595 [==============================] - 4s 1ms/step - loss: 0.5252 - accuracy: 0.7065 - val_loss: 0.5243 - val_accuracy: 0.7081\n",
      "Epoch 89/144\n",
      "3595/3595 [==============================] - 4s 1ms/step - loss: 0.5251 - accuracy: 0.7067 - val_loss: 0.5242 - val_accuracy: 0.7069\n",
      "Epoch 90/144\n",
      "3595/3595 [==============================] - 4s 1ms/step - loss: 0.5250 - accuracy: 0.7075 - val_loss: 0.5241 - val_accuracy: 0.7059\n",
      "Epoch 91/144\n",
      "3595/3595 [==============================] - 4s 1ms/step - loss: 0.5249 - accuracy: 0.7075 - val_loss: 0.5241 - val_accuracy: 0.7069\n",
      "Epoch 92/144\n",
      "3595/3595 [==============================] - 4s 1ms/step - loss: 0.5248 - accuracy: 0.7072 - val_loss: 0.5240 - val_accuracy: 0.7068\n",
      "Epoch 93/144\n",
      "3595/3595 [==============================] - 4s 1ms/step - loss: 0.5247 - accuracy: 0.7073 - val_loss: 0.5239 - val_accuracy: 0.7059\n",
      "Epoch 94/144\n",
      "3595/3595 [==============================] - 4s 1ms/step - loss: 0.5247 - accuracy: 0.7071 - val_loss: 0.5238 - val_accuracy: 0.7070\n",
      "Epoch 95/144\n",
      "3595/3595 [==============================] - 4s 1ms/step - loss: 0.5246 - accuracy: 0.7068 - val_loss: 0.5237 - val_accuracy: 0.7057\n",
      "Epoch 96/144\n",
      "3595/3595 [==============================] - 4s 1ms/step - loss: 0.5245 - accuracy: 0.7076 - val_loss: 0.5236 - val_accuracy: 0.7058\n",
      "Epoch 97/144\n",
      "3595/3595 [==============================] - 5s 1ms/step - loss: 0.5244 - accuracy: 0.7072 - val_loss: 0.5235 - val_accuracy: 0.7057\n",
      "Epoch 98/144\n",
      "3595/3595 [==============================] - 4s 1ms/step - loss: 0.5243 - accuracy: 0.7069 - val_loss: 0.5235 - val_accuracy: 0.7070\n",
      "Epoch 99/144\n",
      "3595/3595 [==============================] - 4s 1ms/step - loss: 0.5242 - accuracy: 0.7073 - val_loss: 0.5234 - val_accuracy: 0.7069\n",
      "Epoch 100/144\n",
      "3595/3595 [==============================] - 4s 1ms/step - loss: 0.5242 - accuracy: 0.7073 - val_loss: 0.5233 - val_accuracy: 0.7071\n",
      "Epoch 101/144\n",
      "3595/3595 [==============================] - 4s 1ms/step - loss: 0.5240 - accuracy: 0.7073 - val_loss: 0.5235 - val_accuracy: 0.7075\n",
      "Epoch 102/144\n",
      "3595/3595 [==============================] - 4s 1ms/step - loss: 0.5240 - accuracy: 0.7072 - val_loss: 0.5233 - val_accuracy: 0.7077\n",
      "Epoch 103/144\n",
      "3595/3595 [==============================] - 4s 1ms/step - loss: 0.5239 - accuracy: 0.7072 - val_loss: 0.5231 - val_accuracy: 0.7074\n",
      "Epoch 104/144\n",
      "3595/3595 [==============================] - 4s 1ms/step - loss: 0.5238 - accuracy: 0.7076 - val_loss: 0.5230 - val_accuracy: 0.7068\n",
      "Epoch 105/144\n",
      "3595/3595 [==============================] - 4s 1ms/step - loss: 0.5237 - accuracy: 0.7078 - val_loss: 0.5229 - val_accuracy: 0.7068\n",
      "Epoch 106/144\n",
      "3595/3595 [==============================] - 4s 1ms/step - loss: 0.5236 - accuracy: 0.7074 - val_loss: 0.5229 - val_accuracy: 0.7085\n",
      "Epoch 107/144\n",
      "3595/3595 [==============================] - 4s 1ms/step - loss: 0.5235 - accuracy: 0.7083 - val_loss: 0.5228 - val_accuracy: 0.7085\n",
      "Epoch 108/144\n",
      "3595/3595 [==============================] - 4s 1ms/step - loss: 0.5235 - accuracy: 0.7080 - val_loss: 0.5228 - val_accuracy: 0.7085\n",
      "Epoch 109/144\n",
      "3595/3595 [==============================] - 4s 1ms/step - loss: 0.5234 - accuracy: 0.7085 - val_loss: 0.5227 - val_accuracy: 0.7071\n",
      "Epoch 110/144\n",
      "3595/3595 [==============================] - 4s 1ms/step - loss: 0.5233 - accuracy: 0.7093 - val_loss: 0.5226 - val_accuracy: 0.7085\n",
      "Epoch 111/144\n",
      "3595/3595 [==============================] - 4s 1ms/step - loss: 0.5233 - accuracy: 0.7091 - val_loss: 0.5226 - val_accuracy: 0.7066\n",
      "Epoch 112/144\n",
      "3595/3595 [==============================] - 4s 1ms/step - loss: 0.5232 - accuracy: 0.7091 - val_loss: 0.5225 - val_accuracy: 0.7084\n",
      "Epoch 113/144\n"
     ]
    },
    {
     "name": "stdout",
     "output_type": "stream",
     "text": [
      "3595/3595 [==============================] - 4s 1ms/step - loss: 0.5231 - accuracy: 0.7092 - val_loss: 0.5224 - val_accuracy: 0.7082\n",
      "Epoch 114/144\n",
      "3595/3595 [==============================] - 4s 1ms/step - loss: 0.5230 - accuracy: 0.7095 - val_loss: 0.5223 - val_accuracy: 0.7082\n",
      "Epoch 115/144\n",
      "3595/3595 [==============================] - 4s 1ms/step - loss: 0.5230 - accuracy: 0.7095 - val_loss: 0.5223 - val_accuracy: 0.7077\n",
      "Epoch 116/144\n",
      "3595/3595 [==============================] - 4s 1ms/step - loss: 0.5229 - accuracy: 0.7095 - val_loss: 0.5222 - val_accuracy: 0.7084\n",
      "Epoch 117/144\n",
      "3595/3595 [==============================] - 4s 1ms/step - loss: 0.5228 - accuracy: 0.7094 - val_loss: 0.5223 - val_accuracy: 0.7082\n",
      "Epoch 118/144\n",
      "3595/3595 [==============================] - 4s 1ms/step - loss: 0.5228 - accuracy: 0.7094 - val_loss: 0.5221 - val_accuracy: 0.7083\n",
      "Epoch 119/144\n",
      "3595/3595 [==============================] - 4s 1ms/step - loss: 0.5227 - accuracy: 0.7094 - val_loss: 0.5220 - val_accuracy: 0.7084\n",
      "Epoch 120/144\n",
      "3595/3595 [==============================] - 4s 1ms/step - loss: 0.5227 - accuracy: 0.7093 - val_loss: 0.5221 - val_accuracy: 0.7109\n",
      "Epoch 121/144\n",
      "3595/3595 [==============================] - 4s 1ms/step - loss: 0.5226 - accuracy: 0.7096 - val_loss: 0.5220 - val_accuracy: 0.7084\n",
      "Epoch 122/144\n",
      "3595/3595 [==============================] - 4s 1ms/step - loss: 0.5226 - accuracy: 0.7094 - val_loss: 0.5219 - val_accuracy: 0.7087\n",
      "Epoch 123/144\n",
      "3595/3595 [==============================] - 4s 1ms/step - loss: 0.5225 - accuracy: 0.7096 - val_loss: 0.5219 - val_accuracy: 0.7086\n",
      "Epoch 124/144\n",
      "3595/3595 [==============================] - 4s 1ms/step - loss: 0.5224 - accuracy: 0.7095 - val_loss: 0.5218 - val_accuracy: 0.7086\n",
      "Epoch 125/144\n",
      "3595/3595 [==============================] - 4s 1ms/step - loss: 0.5224 - accuracy: 0.7096 - val_loss: 0.5218 - val_accuracy: 0.7085\n",
      "Epoch 126/144\n",
      "3595/3595 [==============================] - 4s 1ms/step - loss: 0.5223 - accuracy: 0.7097 - val_loss: 0.5217 - val_accuracy: 0.7078\n",
      "Epoch 127/144\n",
      "3595/3595 [==============================] - 4s 1ms/step - loss: 0.5223 - accuracy: 0.7097 - val_loss: 0.5216 - val_accuracy: 0.7085\n",
      "Epoch 128/144\n",
      "3595/3595 [==============================] - 4s 1ms/step - loss: 0.5222 - accuracy: 0.7093 - val_loss: 0.5216 - val_accuracy: 0.7085\n",
      "Epoch 129/144\n",
      "3595/3595 [==============================] - 4s 1ms/step - loss: 0.5222 - accuracy: 0.7095 - val_loss: 0.5216 - val_accuracy: 0.7110\n",
      "Epoch 130/144\n",
      "3595/3595 [==============================] - 4s 1ms/step - loss: 0.5221 - accuracy: 0.7096 - val_loss: 0.5215 - val_accuracy: 0.7076\n",
      "Epoch 131/144\n",
      "3595/3595 [==============================] - 4s 1ms/step - loss: 0.5221 - accuracy: 0.7097 - val_loss: 0.5215 - val_accuracy: 0.7110\n",
      "Epoch 132/144\n",
      "3595/3595 [==============================] - 4s 1ms/step - loss: 0.5220 - accuracy: 0.7099 - val_loss: 0.5214 - val_accuracy: 0.7084\n",
      "Epoch 133/144\n",
      "3595/3595 [==============================] - 4s 1ms/step - loss: 0.5220 - accuracy: 0.7106 - val_loss: 0.5213 - val_accuracy: 0.7107\n",
      "Epoch 134/144\n",
      "3595/3595 [==============================] - 4s 1ms/step - loss: 0.5219 - accuracy: 0.7106 - val_loss: 0.5213 - val_accuracy: 0.7108\n",
      "Epoch 135/144\n",
      "3595/3595 [==============================] - 4s 1ms/step - loss: 0.5219 - accuracy: 0.7102 - val_loss: 0.5212 - val_accuracy: 0.7106\n",
      "Epoch 136/144\n",
      "3595/3595 [==============================] - 4s 1ms/step - loss: 0.5218 - accuracy: 0.7111 - val_loss: 0.5213 - val_accuracy: 0.7077\n",
      "Epoch 137/144\n",
      "3595/3595 [==============================] - 4s 1ms/step - loss: 0.5217 - accuracy: 0.7117 - val_loss: 0.5215 - val_accuracy: 0.7072\n",
      "Epoch 138/144\n",
      "3595/3595 [==============================] - 4s 1ms/step - loss: 0.5217 - accuracy: 0.7121 - val_loss: 0.5211 - val_accuracy: 0.7100\n",
      "Epoch 139/144\n",
      "3595/3595 [==============================] - 4s 1ms/step - loss: 0.5216 - accuracy: 0.7113 - val_loss: 0.5211 - val_accuracy: 0.7101\n",
      "Epoch 140/144\n",
      "3595/3595 [==============================] - 4s 1ms/step - loss: 0.5216 - accuracy: 0.7118 - val_loss: 0.5210 - val_accuracy: 0.7102\n",
      "Epoch 141/144\n",
      "3595/3595 [==============================] - 4s 1ms/step - loss: 0.5216 - accuracy: 0.7123 - val_loss: 0.5209 - val_accuracy: 0.7112\n",
      "Epoch 142/144\n",
      "3595/3595 [==============================] - 4s 1ms/step - loss: 0.5215 - accuracy: 0.7123 - val_loss: 0.5209 - val_accuracy: 0.7108\n",
      "Epoch 143/144\n",
      "3595/3595 [==============================] - 4s 1ms/step - loss: 0.5215 - accuracy: 0.7116 - val_loss: 0.5209 - val_accuracy: 0.7102\n",
      "Epoch 144/144\n",
      "3595/3595 [==============================] - 4s 1ms/step - loss: 0.5214 - accuracy: 0.7121 - val_loss: 0.5208 - val_accuracy: 0.7101\n"
     ]
    }
   ],
   "source": [
    "history = model.fit(\n",
    "    x_train,\n",
    "    y_train,\n",
    "    batch_size=32,\n",
    "    epochs=144,\n",
    "    validation_data=(x_val, y_val),verbose=1\n",
    ")"
   ]
  },
  {
   "cell_type": "code",
   "execution_count": 10,
   "metadata": {},
   "outputs": [
    {
     "data": {
      "image/png": "[encoded data removed]",
      "text/plain": [
       "<Figure size 432x288 with 1 Axes>"
      ]
     },
     "metadata": {
      "needs_background": "light"
     },
     "output_type": "display_data"
    }
   ],
   "source": [
    "import matplotlib.pyplot as plt\n",
    "plt.plot(history.history[\"accuracy\"], label=\"Training Accuracy\")\n",
    "plt.plot(history.history[\"val_accuracy\"],label=\"Validation Set Accuracy\")\n",
    "plt.legend()\n",
    "plt.grid()"
   ]
  },
  {
   "cell_type": "code",
   "execution_count": 11,
   "metadata": {},
   "outputs": [
    {
     "name": "stdout",
     "output_type": "stream",
     "text": [
      "0.40156836834052023\n"
     ]
    }
   ],
   "source": [
    "print(y_train.mean())"
   ]
  },
  {
   "cell_type": "code",
   "execution_count": 12,
   "metadata": {},
   "outputs": [
    {
     "name": "stdout",
     "output_type": "stream",
     "text": [
      "maximum_turn 5\n",
      "tf.Tensor([0 1 2 3 4], shape=(5,), dtype=int64) [0.71118575, 0.7229861, 0.73597044, 0.7508768, 0.75807]\n"
     ]
    },
    {
     "data": {
      "image/png": "[encoded data removed]",
      "text/plain": [
       "<Figure size 432x288 with 1 Axes>"
      ]
     },
     "metadata": {
      "needs_background": "light"
     },
     "output_type": "display_data"
    }
   ],
   "source": [
    "accuracy_by_turn=[]\n",
    "maximum_turn=df['Turn'].max()\n",
    "accuracy_metric=tf.keras.metrics.Accuracy()\n",
    "print(\"maximum_turn\",maximum_turn)\n",
    "for turn in range(1,maximum_turn+1):\n",
    "    df_restricted=df.query('Turn>='+str(turn))\n",
    "    x=df_restricted.values[:,4:18].astype(np.float32)\n",
    "    y=df_restricted.values[:,18].astype(np.int32)\n",
    "    y_guess=model(x)\n",
    "    y_guess=tf.argmax(y_guess,axis=1)\n",
    "    accuracy=accuracy_metric(y_guess,y)\n",
    "    accuracy_by_turn.append(accuracy.numpy())\n",
    "print(tf.range(maximum_turn),accuracy_by_turn)\n",
    "plt.plot(tf.range(1,1+len(accuracy_by_turn)),accuracy_by_turn)\n",
    "plt.title('Accuracy at identifying whether any bot is a spy as the game progresses')\n",
    "plt.xlabel('Turn')\n",
    "plt.ylabel('Accuracy')\n",
    "plt.grid()"
   ]
  },
  {
   "cell_type": "code",
   "execution_count": 13,
   "metadata": {},
   "outputs": [
    {
     "name": "stdout",
     "output_type": "stream",
     "text": [
      "INFO:tensorflow:Assets written to: fredbot_classifier\\assets\n"
     ]
    }
   ],
   "source": [
    "model.save('fredbot_classifier')"
   ]
  }
 ],
 "metadata": {
  "kernelspec": {
   "display_name": "Python 3.10.5 64-bit",
   "language": "python",
   "name": "python3"
  },
  "language_info": {
   "codemirror_mode": {
    "name": "ipython",
    "version": 3
   },
   "file_extension": ".py",
   "mimetype": "text/x-python",
   "name": "python",
   "nbconvert_exporter": "python",
   "pygments_lexer": "ipython3",
   "version": "3.10.5"
  },
  "vscode": {
   "interpreter": {
    "hash": "254a5117873c6232bbb39bb90b637181d5ce81949bfc07b201850874bbc30436"
   }
  }
 },
 "nbformat": 4,
 "nbformat_minor": 4
}
