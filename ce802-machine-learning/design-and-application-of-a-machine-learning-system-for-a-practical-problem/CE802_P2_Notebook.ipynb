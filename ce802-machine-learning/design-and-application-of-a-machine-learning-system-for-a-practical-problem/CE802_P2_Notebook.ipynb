{
 "cells": [
  {
   "cell_type": "markdown",
   "metadata": {},
   "source": [
    "## Part A"
   ]
  },
  {
   "cell_type": "markdown",
   "metadata": {},
   "source": [
    "#### Importing Required Libraries"
   ]
  },
  {
   "cell_type": "code",
   "execution_count": 296,
   "metadata": {},
   "outputs": [],
   "source": [
    "import pandas as pd\n",
    "import numpy as np\n",
    "import seaborn as sns\n",
    "import pickle\n",
    "import matplotlib.pyplot as plt\n",
    "from sklearn.metrics import accuracy_score, confusion_matrix\n",
    "from sklearn.model_selection import train_test_split, GridSearchCV\n",
    "from sklearn.pipeline import Pipeline\n",
    "from sklearn.preprocessing import StandardScaler\n",
    "\n",
    "sc = StandardScaler()"
   ]
  },
  {
   "cell_type": "markdown",
   "metadata": {},
   "source": [
    "#### Importing Training Data"
   ]
  },
  {
   "cell_type": "code",
   "execution_count": 297,
   "metadata": {},
   "outputs": [
    {
     "data": {
      "text/html": [
       "<div>\n",
       "<style scoped>\n",
       "    .dataframe tbody tr th:only-of-type {\n",
       "        vertical-align: middle;\n",
       "    }\n",
       "\n",
       "    .dataframe tbody tr th {\n",
       "        vertical-align: top;\n",
       "    }\n",
       "\n",
       "    .dataframe thead th {\n",
       "        text-align: right;\n",
       "    }\n",
       "</style>\n",
       "<table border=\"1\" class=\"dataframe\">\n",
       "  <thead>\n",
       "    <tr style=\"text-align: right;\">\n",
       "      <th></th>\n",
       "      <th>F1</th>\n",
       "      <th>F2</th>\n",
       "      <th>F3</th>\n",
       "      <th>F4</th>\n",
       "      <th>F5</th>\n",
       "      <th>F6</th>\n",
       "      <th>F7</th>\n",
       "      <th>F8</th>\n",
       "      <th>F9</th>\n",
       "      <th>F10</th>\n",
       "      <th>...</th>\n",
       "      <th>F13</th>\n",
       "      <th>F14</th>\n",
       "      <th>F15</th>\n",
       "      <th>F16</th>\n",
       "      <th>F17</th>\n",
       "      <th>F18</th>\n",
       "      <th>F19</th>\n",
       "      <th>F20</th>\n",
       "      <th>F21</th>\n",
       "      <th>Class</th>\n",
       "    </tr>\n",
       "  </thead>\n",
       "  <tbody>\n",
       "    <tr>\n",
       "      <th>0</th>\n",
       "      <td>22.41900</td>\n",
       "      <td>-5.0520</td>\n",
       "      <td>9179.010</td>\n",
       "      <td>2.3940</td>\n",
       "      <td>-58.920</td>\n",
       "      <td>-5404.960</td>\n",
       "      <td>4.40693</td>\n",
       "      <td>-3.2322</td>\n",
       "      <td>-4.9938</td>\n",
       "      <td>0</td>\n",
       "      <td>...</td>\n",
       "      <td>-3649.27</td>\n",
       "      <td>-6.748800</td>\n",
       "      <td>-2141.760</td>\n",
       "      <td>0</td>\n",
       "      <td>10.27280</td>\n",
       "      <td>3501.20</td>\n",
       "      <td>2.04</td>\n",
       "      <td>16357.41</td>\n",
       "      <td>NaN</td>\n",
       "      <td>True</td>\n",
       "    </tr>\n",
       "    <tr>\n",
       "      <th>1</th>\n",
       "      <td>12.12414</td>\n",
       "      <td>-4.1046</td>\n",
       "      <td>4746.810</td>\n",
       "      <td>0.5664</td>\n",
       "      <td>-47.240</td>\n",
       "      <td>-5423.220</td>\n",
       "      <td>4.70780</td>\n",
       "      <td>-2.7708</td>\n",
       "      <td>-4.6814</td>\n",
       "      <td>1</td>\n",
       "      <td>...</td>\n",
       "      <td>4355.41</td>\n",
       "      <td>-14.178000</td>\n",
       "      <td>-1706.220</td>\n",
       "      <td>0</td>\n",
       "      <td>13.99800</td>\n",
       "      <td>3658.88</td>\n",
       "      <td>2.04</td>\n",
       "      <td>12350.85</td>\n",
       "      <td>NaN</td>\n",
       "      <td>False</td>\n",
       "    </tr>\n",
       "    <tr>\n",
       "      <th>2</th>\n",
       "      <td>13.47210</td>\n",
       "      <td>-3.8719</td>\n",
       "      <td>10700.820</td>\n",
       "      <td>2.4700</td>\n",
       "      <td>-15.010</td>\n",
       "      <td>-5334.180</td>\n",
       "      <td>4.42820</td>\n",
       "      <td>-5.0070</td>\n",
       "      <td>-6.2390</td>\n",
       "      <td>0</td>\n",
       "      <td>...</td>\n",
       "      <td>-3277.69</td>\n",
       "      <td>-7.728000</td>\n",
       "      <td>-2513.250</td>\n",
       "      <td>0</td>\n",
       "      <td>11.77800</td>\n",
       "      <td>3864.30</td>\n",
       "      <td>2.04</td>\n",
       "      <td>11482.11</td>\n",
       "      <td>NaN</td>\n",
       "      <td>True</td>\n",
       "    </tr>\n",
       "    <tr>\n",
       "      <th>3</th>\n",
       "      <td>12.60300</td>\n",
       "      <td>-3.7919</td>\n",
       "      <td>10553.667</td>\n",
       "      <td>2.3440</td>\n",
       "      <td>-28.216</td>\n",
       "      <td>-5446.240</td>\n",
       "      <td>8.59400</td>\n",
       "      <td>-4.1715</td>\n",
       "      <td>-5.0865</td>\n",
       "      <td>0</td>\n",
       "      <td>...</td>\n",
       "      <td>-2058.59</td>\n",
       "      <td>-5.573100</td>\n",
       "      <td>-2207.670</td>\n",
       "      <td>0</td>\n",
       "      <td>10.11020</td>\n",
       "      <td>2182.80</td>\n",
       "      <td>2.04</td>\n",
       "      <td>12662.52</td>\n",
       "      <td>NaN</td>\n",
       "      <td>True</td>\n",
       "    </tr>\n",
       "    <tr>\n",
       "      <th>4</th>\n",
       "      <td>19.83600</td>\n",
       "      <td>-4.6420</td>\n",
       "      <td>6456.810</td>\n",
       "      <td>7.8060</td>\n",
       "      <td>-45.620</td>\n",
       "      <td>-5460.670</td>\n",
       "      <td>4.78980</td>\n",
       "      <td>-1.6536</td>\n",
       "      <td>-4.7637</td>\n",
       "      <td>0</td>\n",
       "      <td>...</td>\n",
       "      <td>-3813.58</td>\n",
       "      <td>-3.828900</td>\n",
       "      <td>507.780</td>\n",
       "      <td>0</td>\n",
       "      <td>10.35120</td>\n",
       "      <td>3246.40</td>\n",
       "      <td>2.04</td>\n",
       "      <td>12121.71</td>\n",
       "      <td>15.52</td>\n",
       "      <td>False</td>\n",
       "    </tr>\n",
       "    <tr>\n",
       "      <th>...</th>\n",
       "      <td>...</td>\n",
       "      <td>...</td>\n",
       "      <td>...</td>\n",
       "      <td>...</td>\n",
       "      <td>...</td>\n",
       "      <td>...</td>\n",
       "      <td>...</td>\n",
       "      <td>...</td>\n",
       "      <td>...</td>\n",
       "      <td>...</td>\n",
       "      <td>...</td>\n",
       "      <td>...</td>\n",
       "      <td>...</td>\n",
       "      <td>...</td>\n",
       "      <td>...</td>\n",
       "      <td>...</td>\n",
       "      <td>...</td>\n",
       "      <td>...</td>\n",
       "      <td>...</td>\n",
       "      <td>...</td>\n",
       "      <td>...</td>\n",
       "    </tr>\n",
       "    <tr>\n",
       "      <th>995</th>\n",
       "      <td>14.08380</td>\n",
       "      <td>-4.9960</td>\n",
       "      <td>10155.510</td>\n",
       "      <td>5.2420</td>\n",
       "      <td>-20.982</td>\n",
       "      <td>-5462.268</td>\n",
       "      <td>4.52620</td>\n",
       "      <td>-2.8761</td>\n",
       "      <td>-5.4848</td>\n",
       "      <td>0</td>\n",
       "      <td>...</td>\n",
       "      <td>-3885.89</td>\n",
       "      <td>-3.799653</td>\n",
       "      <td>-1985.520</td>\n",
       "      <td>0</td>\n",
       "      <td>10.37440</td>\n",
       "      <td>2554.20</td>\n",
       "      <td>2.04</td>\n",
       "      <td>15038.61</td>\n",
       "      <td>NaN</td>\n",
       "      <td>False</td>\n",
       "    </tr>\n",
       "    <tr>\n",
       "      <th>996</th>\n",
       "      <td>13.66650</td>\n",
       "      <td>-4.3146</td>\n",
       "      <td>12121.110</td>\n",
       "      <td>1.4452</td>\n",
       "      <td>-116.300</td>\n",
       "      <td>-5485.286</td>\n",
       "      <td>4.51470</td>\n",
       "      <td>-2.3400</td>\n",
       "      <td>-4.7273</td>\n",
       "      <td>0</td>\n",
       "      <td>...</td>\n",
       "      <td>-3538.19</td>\n",
       "      <td>-4.375800</td>\n",
       "      <td>-2869.320</td>\n",
       "      <td>0</td>\n",
       "      <td>9.23880</td>\n",
       "      <td>3720.54</td>\n",
       "      <td>2.04</td>\n",
       "      <td>13332.21</td>\n",
       "      <td>NaN</td>\n",
       "      <td>False</td>\n",
       "    </tr>\n",
       "    <tr>\n",
       "      <th>997</th>\n",
       "      <td>12.87600</td>\n",
       "      <td>-3.6867</td>\n",
       "      <td>10724.040</td>\n",
       "      <td>3.7860</td>\n",
       "      <td>-27.924</td>\n",
       "      <td>-5450.136</td>\n",
       "      <td>5.53000</td>\n",
       "      <td>-5.3190</td>\n",
       "      <td>-6.8250</td>\n",
       "      <td>0</td>\n",
       "      <td>...</td>\n",
       "      <td>-2683.59</td>\n",
       "      <td>-5.184900</td>\n",
       "      <td>-2408.724</td>\n",
       "      <td>0</td>\n",
       "      <td>9.17134</td>\n",
       "      <td>-4036.00</td>\n",
       "      <td>0.04</td>\n",
       "      <td>12827.37</td>\n",
       "      <td>14.44</td>\n",
       "      <td>True</td>\n",
       "    </tr>\n",
       "    <tr>\n",
       "      <th>998</th>\n",
       "      <td>16.77900</td>\n",
       "      <td>-3.9024</td>\n",
       "      <td>10998.210</td>\n",
       "      <td>1.7188</td>\n",
       "      <td>-25.672</td>\n",
       "      <td>-5434.820</td>\n",
       "      <td>4.82050</td>\n",
       "      <td>-2.8479</td>\n",
       "      <td>-4.9253</td>\n",
       "      <td>0</td>\n",
       "      <td>...</td>\n",
       "      <td>-3578.79</td>\n",
       "      <td>-4.709700</td>\n",
       "      <td>-2378.829</td>\n",
       "      <td>1</td>\n",
       "      <td>10.41200</td>\n",
       "      <td>3007.00</td>\n",
       "      <td>0.04</td>\n",
       "      <td>13415.01</td>\n",
       "      <td>NaN</td>\n",
       "      <td>True</td>\n",
       "    </tr>\n",
       "    <tr>\n",
       "      <th>999</th>\n",
       "      <td>15.22500</td>\n",
       "      <td>-4.3887</td>\n",
       "      <td>10698.930</td>\n",
       "      <td>1.2640</td>\n",
       "      <td>-24.464</td>\n",
       "      <td>-5409.040</td>\n",
       "      <td>5.25840</td>\n",
       "      <td>-5.3490</td>\n",
       "      <td>-6.4200</td>\n",
       "      <td>1</td>\n",
       "      <td>...</td>\n",
       "      <td>-3463.99</td>\n",
       "      <td>-3.908730</td>\n",
       "      <td>-2403.702</td>\n",
       "      <td>1</td>\n",
       "      <td>9.50480</td>\n",
       "      <td>996.00</td>\n",
       "      <td>0.04</td>\n",
       "      <td>13171.41</td>\n",
       "      <td>NaN</td>\n",
       "      <td>True</td>\n",
       "    </tr>\n",
       "  </tbody>\n",
       "</table>\n",
       "<p>1000 rows × 22 columns</p>\n",
       "</div>"
      ],
      "text/plain": [
       "           F1      F2         F3      F4       F5        F6       F7      F8  \\\n",
       "0    22.41900 -5.0520   9179.010  2.3940  -58.920 -5404.960  4.40693 -3.2322   \n",
       "1    12.12414 -4.1046   4746.810  0.5664  -47.240 -5423.220  4.70780 -2.7708   \n",
       "2    13.47210 -3.8719  10700.820  2.4700  -15.010 -5334.180  4.42820 -5.0070   \n",
       "3    12.60300 -3.7919  10553.667  2.3440  -28.216 -5446.240  8.59400 -4.1715   \n",
       "4    19.83600 -4.6420   6456.810  7.8060  -45.620 -5460.670  4.78980 -1.6536   \n",
       "..        ...     ...        ...     ...      ...       ...      ...     ...   \n",
       "995  14.08380 -4.9960  10155.510  5.2420  -20.982 -5462.268  4.52620 -2.8761   \n",
       "996  13.66650 -4.3146  12121.110  1.4452 -116.300 -5485.286  4.51470 -2.3400   \n",
       "997  12.87600 -3.6867  10724.040  3.7860  -27.924 -5450.136  5.53000 -5.3190   \n",
       "998  16.77900 -3.9024  10998.210  1.7188  -25.672 -5434.820  4.82050 -2.8479   \n",
       "999  15.22500 -4.3887  10698.930  1.2640  -24.464 -5409.040  5.25840 -5.3490   \n",
       "\n",
       "         F9  F10  ...      F13        F14       F15  F16       F17      F18  \\\n",
       "0   -4.9938    0  ... -3649.27  -6.748800 -2141.760    0  10.27280  3501.20   \n",
       "1   -4.6814    1  ...  4355.41 -14.178000 -1706.220    0  13.99800  3658.88   \n",
       "2   -6.2390    0  ... -3277.69  -7.728000 -2513.250    0  11.77800  3864.30   \n",
       "3   -5.0865    0  ... -2058.59  -5.573100 -2207.670    0  10.11020  2182.80   \n",
       "4   -4.7637    0  ... -3813.58  -3.828900   507.780    0  10.35120  3246.40   \n",
       "..      ...  ...  ...      ...        ...       ...  ...       ...      ...   \n",
       "995 -5.4848    0  ... -3885.89  -3.799653 -1985.520    0  10.37440  2554.20   \n",
       "996 -4.7273    0  ... -3538.19  -4.375800 -2869.320    0   9.23880  3720.54   \n",
       "997 -6.8250    0  ... -2683.59  -5.184900 -2408.724    0   9.17134 -4036.00   \n",
       "998 -4.9253    0  ... -3578.79  -4.709700 -2378.829    1  10.41200  3007.00   \n",
       "999 -6.4200    1  ... -3463.99  -3.908730 -2403.702    1   9.50480   996.00   \n",
       "\n",
       "      F19       F20    F21  Class  \n",
       "0    2.04  16357.41    NaN   True  \n",
       "1    2.04  12350.85    NaN  False  \n",
       "2    2.04  11482.11    NaN   True  \n",
       "3    2.04  12662.52    NaN   True  \n",
       "4    2.04  12121.71  15.52  False  \n",
       "..    ...       ...    ...    ...  \n",
       "995  2.04  15038.61    NaN  False  \n",
       "996  2.04  13332.21    NaN  False  \n",
       "997  0.04  12827.37  14.44   True  \n",
       "998  0.04  13415.01    NaN   True  \n",
       "999  0.04  13171.41    NaN   True  \n",
       "\n",
       "[1000 rows x 22 columns]"
      ]
     },
     "execution_count": 297,
     "metadata": {},
     "output_type": "execute_result"
    }
   ],
   "source": [
    "train_df = pd.read_csv('CE802_P2_Data.csv')\n",
    "train_data = train_df.copy()\n",
    "train_data"
   ]
  },
  {
   "cell_type": "markdown",
   "metadata": {},
   "source": [
    "#### Data Preparation (Part One)"
   ]
  },
  {
   "cell_type": "markdown",
   "metadata": {},
   "source": [
    "##### Checking Column Data Types"
   ]
  },
  {
   "cell_type": "code",
   "execution_count": 298,
   "metadata": {},
   "outputs": [
    {
     "data": {
      "text/plain": [
       "F1       float64\n",
       "F2       float64\n",
       "F3       float64\n",
       "F4       float64\n",
       "F5       float64\n",
       "F6       float64\n",
       "F7       float64\n",
       "F8       float64\n",
       "F9       float64\n",
       "F10        int64\n",
       "F11      float64\n",
       "F12      float64\n",
       "F13      float64\n",
       "F14      float64\n",
       "F15      float64\n",
       "F16        int64\n",
       "F17      float64\n",
       "F18      float64\n",
       "F19      float64\n",
       "F20      float64\n",
       "F21      float64\n",
       "Class       bool\n",
       "dtype: object"
      ]
     },
     "execution_count": 298,
     "metadata": {},
     "output_type": "execute_result"
    }
   ],
   "source": [
    "train_data.dtypes"
   ]
  },
  {
   "cell_type": "markdown",
   "metadata": {},
   "source": [
    "Columns Already Numerical"
   ]
  },
  {
   "cell_type": "markdown",
   "metadata": {},
   "source": [
    "#### Training Data Pre-Processing"
   ]
  },
  {
   "cell_type": "markdown",
   "metadata": {},
   "source": [
    "##### Missing Data"
   ]
  },
  {
   "cell_type": "markdown",
   "metadata": {},
   "source": [
    "Checking for Missing Data"
   ]
  },
  {
   "cell_type": "code",
   "execution_count": 299,
   "metadata": {},
   "outputs": [
    {
     "data": {
      "text/plain": [
       "F1         0\n",
       "F2         0\n",
       "F3         0\n",
       "F4         0\n",
       "F5         0\n",
       "F6         0\n",
       "F7         0\n",
       "F8         0\n",
       "F9         0\n",
       "F10        0\n",
       "F11        0\n",
       "F12        0\n",
       "F13        0\n",
       "F14        0\n",
       "F15        0\n",
       "F16        0\n",
       "F17        0\n",
       "F18        0\n",
       "F19        0\n",
       "F20        0\n",
       "F21      500\n",
       "Class      0\n",
       "dtype: int64"
      ]
     },
     "execution_count": 299,
     "metadata": {},
     "output_type": "execute_result"
    }
   ],
   "source": [
    "train_data.isna().sum()"
   ]
  },
  {
   "cell_type": "markdown",
   "metadata": {},
   "source": [
    "Getting Information About Column 'F21'"
   ]
  },
  {
   "cell_type": "code",
   "execution_count": 300,
   "metadata": {},
   "outputs": [
    {
     "data": {
      "text/plain": [
       "count    500.000000\n",
       "mean      14.713520\n",
       "std        1.062748\n",
       "min       11.340000\n",
       "25%       13.980000\n",
       "50%       14.665000\n",
       "75%       15.455000\n",
       "max       18.150000\n",
       "Name: F21, dtype: float64"
      ]
     },
     "execution_count": 300,
     "metadata": {},
     "output_type": "execute_result"
    }
   ],
   "source": [
    "train_data['F21'].describe()"
   ]
  },
  {
   "cell_type": "markdown",
   "metadata": {},
   "source": [
    "Replacing Missing Data"
   ]
  },
  {
   "cell_type": "code",
   "execution_count": 301,
   "metadata": {},
   "outputs": [
    {
     "data": {
      "text/plain": [
       "0"
      ]
     },
     "execution_count": 301,
     "metadata": {},
     "output_type": "execute_result"
    }
   ],
   "source": [
    "train_data['F21'].fillna(train_data['F21'].mean(), inplace=True)\n",
    "train_data['F21'].isna().sum()"
   ]
  },
  {
   "cell_type": "markdown",
   "metadata": {},
   "source": [
    "#### Data Visualization"
   ]
  },
  {
   "cell_type": "markdown",
   "metadata": {},
   "source": [
    "##### Checking for False Predictors"
   ]
  },
  {
   "cell_type": "code",
   "execution_count": 302,
   "metadata": {},
   "outputs": [
    {
     "data": {
      "image/png": "[encoded data removed]",
      "text/plain": [
       "<Figure size 1800x720 with 21 Axes>"
      ]
     },
     "metadata": {},
     "output_type": "display_data"
    }
   ],
   "source": [
    "x = train_data.loc[:, train_data.columns != 'Class'].to_numpy()\n",
    "y = train_data.loc[:, 'Class'].to_numpy()\n",
    "plt.figure(figsize=(25, 10))\n",
    "for i in range(x.shape[1]):\n",
    "    plt.subplot(3, 7, i+1)\n",
    "    plt.scatter(y,x[:,i])\n",
    "    plt.title(train_data.columns[i])\n",
    "plt.tight_layout()\n",
    "plt.show()"
   ]
  },
  {
   "cell_type": "markdown",
   "metadata": {},
   "source": [
    "No Obvious False Predictors Found"
   ]
  },
  {
   "cell_type": "markdown",
   "metadata": {},
   "source": [
    "##### Checking Feature Correlation"
   ]
  },
  {
   "cell_type": "code",
   "execution_count": 303,
   "metadata": {},
   "outputs": [
    {
     "data": {
      "text/plain": [
       "F1      -0.022172\n",
       "F2       0.026389\n",
       "F3      -0.000403\n",
       "F4       0.048997\n",
       "F5      -0.045664\n",
       "F6      -0.031054\n",
       "F7      -0.007510\n",
       "F8       0.028876\n",
       "F9       0.039024\n",
       "F10      0.010464\n",
       "F11     -0.009307\n",
       "F12      0.027641\n",
       "F13      0.258222\n",
       "F14      0.018146\n",
       "F15     -0.012088\n",
       "F16      0.029837\n",
       "F17      0.069685\n",
       "F18      0.018274\n",
       "F19      0.041377\n",
       "F20      0.216721\n",
       "F21      0.365397\n",
       "Class    1.000000\n",
       "Name: Class, dtype: float64"
      ]
     },
     "execution_count": 303,
     "metadata": {},
     "output_type": "execute_result"
    },
    {
     "data": {
      "image/png": "[encoded data removed]",
      "text/plain": [
       "<Figure size 1080x540 with 2 Axes>"
      ]
     },
     "metadata": {},
     "output_type": "display_data"
    }
   ],
   "source": [
    "sns.set(rc = {'figure.figsize':(15,7.5)})\n",
    "sns.heatmap(train_data.corr(), linewidth=0.5)\n",
    "train_data[train_data.columns[:]].corr()['Class'][:]"
   ]
  },
  {
   "cell_type": "markdown",
   "metadata": {},
   "source": [
    "No Overly-Correlating Features"
   ]
  },
  {
   "cell_type": "markdown",
   "metadata": {},
   "source": [
    "#### Data Preparation (Part Two)"
   ]
  },
  {
   "cell_type": "markdown",
   "metadata": {},
   "source": [
    "##### Separating Target Column"
   ]
  },
  {
   "cell_type": "code",
   "execution_count": 304,
   "metadata": {},
   "outputs": [],
   "source": [
    "x = train_data.loc[:, train_data.columns != 'Class'].to_numpy()\n",
    "y = train_data.loc[:, 'Class'].to_numpy()"
   ]
  },
  {
   "cell_type": "markdown",
   "metadata": {},
   "source": [
    "##### Data Partitioning"
   ]
  },
  {
   "cell_type": "code",
   "execution_count": 305,
   "metadata": {},
   "outputs": [],
   "source": [
    "x_train, x_test, y_train, y_test = train_test_split(x, y, test_size=0.3)"
   ]
  },
  {
   "cell_type": "markdown",
   "metadata": {},
   "source": [
    "#### Creating Lists for Model Comparison"
   ]
  },
  {
   "cell_type": "code",
   "execution_count": 306,
   "metadata": {},
   "outputs": [],
   "source": [
    "models = []\n",
    "model_train_accuracies = []\n",
    "model_test_accuracies = []"
   ]
  },
  {
   "cell_type": "markdown",
   "metadata": {},
   "source": [
    "#### Experimenting with Classifiers"
   ]
  },
  {
   "cell_type": "markdown",
   "metadata": {},
   "source": [
    "##### Decision Tree Classifier"
   ]
  },
  {
   "cell_type": "code",
   "execution_count": 307,
   "metadata": {},
   "outputs": [
    {
     "name": "stdout",
     "output_type": "stream",
     "text": [
      "Fitting 10 folds for each of 40 candidates, totalling 400 fits\n",
      "{'classifier__criterion': 'gini', 'classifier__max_depth': 5, 'classifier__min_samples_leaf': 10, 'scaler__with_std': False}\n",
      "Train Accuracy Score:  0.9085714285714286\n",
      "[[293  48]\n",
      " [ 16 343]]\n",
      "Test Accuracy Score:  0.9033333333333333\n",
      "[[129  24]\n",
      " [  5 142]]\n"
     ]
    }
   ],
   "source": [
    "from sklearn.tree import DecisionTreeClassifier\n",
    "\n",
    "dt_model = DecisionTreeClassifier()\n",
    "dt_pipe = Pipeline(steps=[('scaler', sc), ('classifier', dt_model)])\n",
    "dt_param_grid = {\n",
    "    'scaler__with_std': [True, False],\n",
    "    \"classifier__criterion\": [\"gini\", \"entropy\"],\n",
    "    \"classifier__max_depth\": np.arange(1, 11),\n",
    "    \"classifier__min_samples_leaf\": [10]\n",
    "}\n",
    "dt_model = GridSearchCV(dt_pipe, dt_param_grid, cv=10, verbose=1, n_jobs=-1)\n",
    "dt_model.fit(x_train, y_train)\n",
    "print(dt_model.best_params_)\n",
    "\n",
    "dt_train = dt_model.predict(x_train)\n",
    "dt_train_accuracy = accuracy_score(y_train, dt_train)\n",
    "print(\"Train Accuracy Score: \", dt_train_accuracy)\n",
    "dt_train_conf = confusion_matrix(y_train, dt_train)\n",
    "print(dt_train_conf)\n",
    "\n",
    "dt_test = dt_model.predict(x_test)\n",
    "dt_test_accuracy = accuracy_score(y_test, dt_test)\n",
    "print(\"Test Accuracy Score: \", dt_test_accuracy)\n",
    "dt_test_conf = confusion_matrix(y_test, dt_test)\n",
    "print(dt_test_conf)"
   ]
  },
  {
   "cell_type": "markdown",
   "metadata": {},
   "source": [
    "Saving Score and Model"
   ]
  },
  {
   "cell_type": "code",
   "execution_count": 308,
   "metadata": {},
   "outputs": [],
   "source": [
    "models.append('dt_model')\n",
    "model_train_accuracies.append(dt_train_accuracy)\n",
    "model_test_accuracies.append(dt_test_accuracy)\n",
    "pickle.dump(dt_model, open(\"dt_classifier_model.p\", \"wb\"))"
   ]
  },
  {
   "cell_type": "markdown",
   "metadata": {},
   "source": [
    "#### SVM Classifier"
   ]
  },
  {
   "cell_type": "code",
   "execution_count": 309,
   "metadata": {},
   "outputs": [
    {
     "name": "stdout",
     "output_type": "stream",
     "text": [
      "Fitting 10 folds for each of 50 candidates, totalling 500 fits\n",
      "{'classifier__C': 100, 'classifier__gamma': 0.01, 'scaler__with_std': True}\n",
      "Train Accuracy Score:  0.9457142857142857\n",
      "[[322  19]\n",
      " [ 19 340]]\n",
      "Test Accuracy Score:  0.7233333333333334\n",
      "[[114  39]\n",
      " [ 44 103]]\n"
     ]
    }
   ],
   "source": [
    "from sklearn.svm import SVC\n",
    "\n",
    "svm_model = SVC()\n",
    "svm_pipe = Pipeline(steps=[('scaler', sc), ('classifier', svm_model)])\n",
    "svm_param_grid = {\n",
    "    \"scaler__with_std\": [True, False],\n",
    "    \"classifier__C\": [0.1, 1, 10, 100, 1000],\n",
    "    \"classifier__gamma\": [1, 0.1, 0.01, 0.001, 0.0001],\n",
    "}\n",
    "svm_model = GridSearchCV(svm_pipe, svm_param_grid, cv=10, verbose=1, n_jobs=-1)\n",
    "svm_model.fit(x_train, y_train)\n",
    "print(svm_model.best_params_)\n",
    "\n",
    "svm_train = svm_model.predict(x_train)\n",
    "svm_train_accuracy = accuracy_score(y_train, svm_train)\n",
    "print(\"Train Accuracy Score: \", svm_train_accuracy)\n",
    "svm_train_conf = confusion_matrix(y_train, svm_train)\n",
    "print(svm_train_conf)\n",
    "\n",
    "svm_test = svm_model.predict(x_test)\n",
    "svm_test_accuracy = accuracy_score(y_test, svm_test)\n",
    "print(\"Test Accuracy Score: \", svm_test_accuracy)\n",
    "svm_test_conf = confusion_matrix(y_test, svm_test)\n",
    "print(svm_test_conf)"
   ]
  },
  {
   "cell_type": "markdown",
   "metadata": {},
   "source": [
    "Saving Score and Model"
   ]
  },
  {
   "cell_type": "code",
   "execution_count": 310,
   "metadata": {},
   "outputs": [],
   "source": [
    "models.append('svm_model')\n",
    "model_train_accuracies.append(svm_train_accuracy)\n",
    "model_test_accuracies.append(svm_test_accuracy)\n",
    "pickle.dump(svm_model, open(\"svm_classifier_model.p\", \"wb\"))"
   ]
  },
  {
   "cell_type": "markdown",
   "metadata": {},
   "source": [
    "#### k-NN Classifier"
   ]
  },
  {
   "cell_type": "code",
   "execution_count": 311,
   "metadata": {},
   "outputs": [
    {
     "name": "stdout",
     "output_type": "stream",
     "text": [
      "Fitting 10 folds for each of 200 candidates, totalling 2000 fits\n",
      "{'classifier__n_neighbors': 25, 'classifier__p': 1, 'scaler__with_std': True}\n",
      "Train Accuracy Score:  0.7671428571428571\n",
      "[[295  46]\n",
      " [117 242]]\n",
      "Test Accuracy Score:  0.6933333333333334\n",
      "[[127  26]\n",
      " [ 66  81]]\n"
     ]
    }
   ],
   "source": [
    "from sklearn.neighbors import KNeighborsClassifier\n",
    "\n",
    "knn_model = KNeighborsClassifier()\n",
    "knn_pipe = Pipeline(steps=[('scaler', sc), ('classifier', knn_model)])\n",
    "knn_param_grid = {\n",
    "    \"scaler__with_std\": [True, False],\n",
    "    \"classifier__n_neighbors\": np.arange(1, 51),\n",
    "    \"classifier__p\": [1, 2]\n",
    "}\n",
    "knn_model = GridSearchCV(knn_pipe, knn_param_grid, cv=10, verbose=1, n_jobs=-1)\n",
    "knn_model.fit(x_train, y_train)\n",
    "print(knn_model.best_params_)\n",
    "\n",
    "knn_train = knn_model.predict(x_train)\n",
    "knn_train_accuracy = accuracy_score(y_train, knn_train)\n",
    "print(\"Train Accuracy Score: \", knn_train_accuracy)\n",
    "knn_train_conf = confusion_matrix(y_train, knn_train)\n",
    "print(knn_train_conf)\n",
    "\n",
    "knn_test = knn_model.predict(x_test)\n",
    "knn_test_accuracy = accuracy_score(y_test, knn_test)\n",
    "print(\"Test Accuracy Score: \", knn_test_accuracy)\n",
    "knn_test_conf = confusion_matrix(y_test, knn_test)\n",
    "print(knn_test_conf)"
   ]
  },
  {
   "cell_type": "markdown",
   "metadata": {},
   "source": [
    "Saving Score and Model"
   ]
  },
  {
   "cell_type": "code",
   "execution_count": 312,
   "metadata": {},
   "outputs": [],
   "source": [
    "models.append('knn_model')\n",
    "model_train_accuracies.append(knn_train_accuracy)\n",
    "model_test_accuracies.append(knn_test_accuracy)\n",
    "pickle.dump(knn_model, open(\"knn_classifier_model.p\", \"wb\"))"
   ]
  },
  {
   "cell_type": "markdown",
   "metadata": {},
   "source": [
    "#### Random Forest Classifier"
   ]
  },
  {
   "cell_type": "code",
   "execution_count": 326,
   "metadata": {},
   "outputs": [
    {
     "name": "stdout",
     "output_type": "stream",
     "text": [
      "Fitting 10 folds for each of 120 candidates, totalling 1200 fits\n",
      "{'classifier__max_depth': 9, 'classifier__min_samples_leaf': 10, 'classifier__n_estimators': 130, 'scaler__with_std': False}\n",
      "Train Accuracy Score:  0.9371428571428572\n",
      "[[310  31]\n",
      " [ 13 346]]\n",
      "Test Accuracy Score:  0.83\n",
      "[[127  26]\n",
      " [ 25 122]]\n"
     ]
    }
   ],
   "source": [
    "from sklearn.ensemble import RandomForestClassifier\n",
    "\n",
    "rf_model = RandomForestClassifier()\n",
    "rf_pipe = Pipeline(steps=[('scaler', sc), ('classifier', rf_model)])\n",
    "rf_param_grid = {\n",
    "    \"scaler__with_std\" : [True, False],\n",
    "    'classifier__n_estimators': np.arange(100, 151, 10),\n",
    "    'classifier__max_depth': np.arange(1, 11),\n",
    "    'classifier__min_samples_leaf': [10]\n",
    "}\n",
    "rf_model = GridSearchCV(rf_pipe, rf_param_grid, cv=10, verbose=1, n_jobs=-1)\n",
    "rf_model.fit(x_train, y_train)\n",
    "print(rf_model.best_params_)\n",
    "\n",
    "rf_train = rf_model.predict(x_train)\n",
    "rf_train_accuracy = accuracy_score(y_train, rf_train)\n",
    "print(\"Train Accuracy Score: \", rf_train_accuracy)\n",
    "rf_train_conf = confusion_matrix(y_train, rf_train)\n",
    "print(rf_train_conf)\n",
    "\n",
    "rf_test = rf_model.predict(x_test)\n",
    "rf_test_accuracy = accuracy_score(y_test, rf_test)\n",
    "print(\"Test Accuracy Score: \", rf_test_accuracy)\n",
    "rf_test_conf = confusion_matrix(y_test, rf_test)\n",
    "print(rf_test_conf)"
   ]
  },
  {
   "cell_type": "markdown",
   "metadata": {},
   "source": [
    "Saving Score and Model"
   ]
  },
  {
   "cell_type": "code",
   "execution_count": 327,
   "metadata": {},
   "outputs": [],
   "source": [
    "models.append('rf_model')\n",
    "model_train_accuracies.append(rf_train_accuracy)\n",
    "model_test_accuracies.append(rf_test_accuracy)\n",
    "pickle.dump(rf_model, open(\"rf_classifier_model.p\", \"wb\"))"
   ]
  },
  {
   "cell_type": "markdown",
   "metadata": {},
   "source": [
    "#### Comparison"
   ]
  },
  {
   "cell_type": "code",
   "execution_count": 328,
   "metadata": {},
   "outputs": [
    {
     "data": {
      "text/html": [
       "<div>\n",
       "<style scoped>\n",
       "    .dataframe tbody tr th:only-of-type {\n",
       "        vertical-align: middle;\n",
       "    }\n",
       "\n",
       "    .dataframe tbody tr th {\n",
       "        vertical-align: top;\n",
       "    }\n",
       "\n",
       "    .dataframe thead th {\n",
       "        text-align: right;\n",
       "    }\n",
       "</style>\n",
       "<table border=\"1\" class=\"dataframe\">\n",
       "  <thead>\n",
       "    <tr style=\"text-align: right;\">\n",
       "      <th></th>\n",
       "      <th>Model</th>\n",
       "      <th>Train Accuracy</th>\n",
       "      <th>Test Accuracy</th>\n",
       "    </tr>\n",
       "  </thead>\n",
       "  <tbody>\n",
       "    <tr>\n",
       "      <th>0</th>\n",
       "      <td>dt_model</td>\n",
       "      <td>0.908571</td>\n",
       "      <td>0.903333</td>\n",
       "    </tr>\n",
       "    <tr>\n",
       "      <th>1</th>\n",
       "      <td>svm_model</td>\n",
       "      <td>0.945714</td>\n",
       "      <td>0.723333</td>\n",
       "    </tr>\n",
       "    <tr>\n",
       "      <th>2</th>\n",
       "      <td>knn_model</td>\n",
       "      <td>0.767143</td>\n",
       "      <td>0.693333</td>\n",
       "    </tr>\n",
       "    <tr>\n",
       "      <th>3</th>\n",
       "      <td>rf_model</td>\n",
       "      <td>0.937143</td>\n",
       "      <td>0.830000</td>\n",
       "    </tr>\n",
       "  </tbody>\n",
       "</table>\n",
       "</div>"
      ],
      "text/plain": [
       "       Model  Train Accuracy  Test Accuracy\n",
       "0   dt_model        0.908571       0.903333\n",
       "1  svm_model        0.945714       0.723333\n",
       "2  knn_model        0.767143       0.693333\n",
       "3   rf_model        0.937143       0.830000"
      ]
     },
     "execution_count": 328,
     "metadata": {},
     "output_type": "execute_result"
    }
   ],
   "source": [
    "model_comparison = pd.DataFrame()\n",
    "model_comparison['Model'] = models\n",
    "model_comparison['Train Accuracy'] = model_train_accuracies\n",
    "model_comparison['Test Accuracy'] = model_test_accuracies\n",
    "model_comparison"
   ]
  },
  {
   "cell_type": "code",
   "execution_count": 337,
   "metadata": {},
   "outputs": [
    {
     "data": {
      "image/png": "[encoded data removed]",
      "text/plain": [
       "<Figure size 1080x540 with 1 Axes>"
      ]
     },
     "metadata": {},
     "output_type": "display_data"
    }
   ],
   "source": [
    "plt.plot(model_comparison['Model'], model_comparison['Train Accuracy'], label = \"Train Accuracy\")\n",
    "plt.plot(model_comparison['Model'], model_comparison['Test Accuracy'], label = \"Test Accuracy\")\n",
    "plt.legend()\n",
    "plt.show()"
   ]
  },
  {
   "cell_type": "code",
   "execution_count": 346,
   "metadata": {},
   "outputs": [
    {
     "data": {
      "image/png": "[encoded data removed]",
      "text/plain": [
       "<Figure size 1080x540 with 4 Axes>"
      ]
     },
     "metadata": {},
     "output_type": "display_data"
    }
   ],
   "source": [
    "fig, (ax1, ax2) = plt.subplots(1,2)\n",
    "ax1.set_title('dt_train_pred')\n",
    "sns.heatmap(dt_train_conf, ax=ax1, annot=True)\n",
    "ax2.set_title('dt_test_pred')\n",
    "sns.heatmap(dt_test_conf, ax=ax2, annot=True)\n",
    "plt.show()"
   ]
  },
  {
   "cell_type": "code",
   "execution_count": 347,
   "metadata": {},
   "outputs": [
    {
     "data": {
      "image/png": "[encoded data removed]",
      "text/plain": [
       "<Figure size 1080x540 with 4 Axes>"
      ]
     },
     "metadata": {},
     "output_type": "display_data"
    }
   ],
   "source": [
    "fig, (ax1, ax2) = plt.subplots(1,2)\n",
    "ax1.set_title('svm_train_pred')\n",
    "sns.heatmap(svm_train_conf, ax=ax1, annot=True)\n",
    "ax2.set_title('svm_test_pred')\n",
    "sns.heatmap(svm_test_conf, ax=ax2, annot=True)\n",
    "plt.show()"
   ]
  },
  {
   "cell_type": "code",
   "execution_count": 350,
   "metadata": {},
   "outputs": [
    {
     "data": {
      "image/png": "[encoded data removed]",
      "text/plain": [
       "<Figure size 1080x540 with 4 Axes>"
      ]
     },
     "metadata": {},
     "output_type": "display_data"
    }
   ],
   "source": [
    "fig, (ax1, ax2) = plt.subplots(1,2)\n",
    "ax1.set_title('knn_train_pred')\n",
    "sns.heatmap(knn_train_conf, ax=ax1, annot=True)\n",
    "ax2.set_title('knn_test_pred')\n",
    "sns.heatmap(knn_test_conf, ax=ax2, annot=True)\n",
    "plt.show()"
   ]
  },
  {
   "cell_type": "code",
   "execution_count": 351,
   "metadata": {},
   "outputs": [
    {
     "data": {
      "image/png": "[encoded data removed]",
      "text/plain": [
       "<Figure size 1080x540 with 4 Axes>"
      ]
     },
     "metadata": {},
     "output_type": "display_data"
    }
   ],
   "source": [
    "fig, (ax1, ax2) = plt.subplots(1,2)\n",
    "ax1.set_title('rf_train_pred')\n",
    "sns.heatmap(rf_train_conf, ax=ax1, annot=True)\n",
    "ax2.set_title('rf_test_pred')\n",
    "sns.heatmap(rf_test_conf, ax=ax2, annot=True)\n",
    "plt.show()"
   ]
  },
  {
   "cell_type": "markdown",
   "metadata": {},
   "source": [
    "#### Selecting a Model"
   ]
  },
  {
   "cell_type": "code",
   "execution_count": 352,
   "metadata": {},
   "outputs": [],
   "source": [
    "# model = pickle.load(open(\"dt_classifier_model.p\", \"rb\"))\n",
    "model = dt_model    # using this as extra files are not allowed in the moodle submission"
   ]
  },
  {
   "cell_type": "markdown",
   "metadata": {},
   "source": [
    "## Part B"
   ]
  },
  {
   "cell_type": "markdown",
   "metadata": {},
   "source": [
    "#### Importing Testing Data"
   ]
  },
  {
   "cell_type": "code",
   "execution_count": 353,
   "metadata": {},
   "outputs": [
    {
     "data": {
      "text/html": [
       "<div>\n",
       "<style scoped>\n",
       "    .dataframe tbody tr th:only-of-type {\n",
       "        vertical-align: middle;\n",
       "    }\n",
       "\n",
       "    .dataframe tbody tr th {\n",
       "        vertical-align: top;\n",
       "    }\n",
       "\n",
       "    .dataframe thead th {\n",
       "        text-align: right;\n",
       "    }\n",
       "</style>\n",
       "<table border=\"1\" class=\"dataframe\">\n",
       "  <thead>\n",
       "    <tr style=\"text-align: right;\">\n",
       "      <th></th>\n",
       "      <th>F1</th>\n",
       "      <th>F2</th>\n",
       "      <th>F3</th>\n",
       "      <th>F4</th>\n",
       "      <th>F5</th>\n",
       "      <th>F6</th>\n",
       "      <th>F7</th>\n",
       "      <th>F8</th>\n",
       "      <th>F9</th>\n",
       "      <th>F10</th>\n",
       "      <th>...</th>\n",
       "      <th>F12</th>\n",
       "      <th>F13</th>\n",
       "      <th>F14</th>\n",
       "      <th>F15</th>\n",
       "      <th>F16</th>\n",
       "      <th>F17</th>\n",
       "      <th>F18</th>\n",
       "      <th>F19</th>\n",
       "      <th>F20</th>\n",
       "      <th>F21</th>\n",
       "    </tr>\n",
       "  </thead>\n",
       "  <tbody>\n",
       "    <tr>\n",
       "      <th>0</th>\n",
       "      <td>12.19434</td>\n",
       "      <td>-4.04080</td>\n",
       "      <td>12708.210</td>\n",
       "      <td>0.8192</td>\n",
       "      <td>-26.0320</td>\n",
       "      <td>-5646.140</td>\n",
       "      <td>5.4150</td>\n",
       "      <td>-1.91220</td>\n",
       "      <td>-4.69020</td>\n",
       "      <td>0</td>\n",
       "      <td>...</td>\n",
       "      <td>5.83125</td>\n",
       "      <td>668.41</td>\n",
       "      <td>-3.889080</td>\n",
       "      <td>-2164.230</td>\n",
       "      <td>0</td>\n",
       "      <td>10.7196</td>\n",
       "      <td>3054.800</td>\n",
       "      <td>0.04</td>\n",
       "      <td>12826.86</td>\n",
       "      <td>NaN</td>\n",
       "    </tr>\n",
       "    <tr>\n",
       "      <th>1</th>\n",
       "      <td>19.70700</td>\n",
       "      <td>-5.18200</td>\n",
       "      <td>9651.810</td>\n",
       "      <td>1.0418</td>\n",
       "      <td>-19.4540</td>\n",
       "      <td>-5541.680</td>\n",
       "      <td>5.2977</td>\n",
       "      <td>-6.02700</td>\n",
       "      <td>-5.70300</td>\n",
       "      <td>1</td>\n",
       "      <td>...</td>\n",
       "      <td>6.21360</td>\n",
       "      <td>-3801.77</td>\n",
       "      <td>-3.981990</td>\n",
       "      <td>-2175.450</td>\n",
       "      <td>0</td>\n",
       "      <td>12.6300</td>\n",
       "      <td>3427.200</td>\n",
       "      <td>0.04</td>\n",
       "      <td>13053.51</td>\n",
       "      <td>14.37</td>\n",
       "    </tr>\n",
       "    <tr>\n",
       "      <th>2</th>\n",
       "      <td>13.80600</td>\n",
       "      <td>-5.71600</td>\n",
       "      <td>10903.710</td>\n",
       "      <td>0.4244</td>\n",
       "      <td>-50.7200</td>\n",
       "      <td>-5488.610</td>\n",
       "      <td>5.2426</td>\n",
       "      <td>-4.63500</td>\n",
       "      <td>-5.26470</td>\n",
       "      <td>0</td>\n",
       "      <td>...</td>\n",
       "      <td>10.55700</td>\n",
       "      <td>-3133.29</td>\n",
       "      <td>-5.562300</td>\n",
       "      <td>-2533.920</td>\n",
       "      <td>1</td>\n",
       "      <td>11.4600</td>\n",
       "      <td>3663.620</td>\n",
       "      <td>2.04</td>\n",
       "      <td>13007.01</td>\n",
       "      <td>NaN</td>\n",
       "    </tr>\n",
       "    <tr>\n",
       "      <th>3</th>\n",
       "      <td>13.30020</td>\n",
       "      <td>-5.03500</td>\n",
       "      <td>10830.030</td>\n",
       "      <td>1.1048</td>\n",
       "      <td>-28.1660</td>\n",
       "      <td>-5395.760</td>\n",
       "      <td>4.6071</td>\n",
       "      <td>-1.56057</td>\n",
       "      <td>-5.96500</td>\n",
       "      <td>0</td>\n",
       "      <td>...</td>\n",
       "      <td>5.46110</td>\n",
       "      <td>-4097.59</td>\n",
       "      <td>-4.521900</td>\n",
       "      <td>-1490.520</td>\n",
       "      <td>0</td>\n",
       "      <td>13.0920</td>\n",
       "      <td>3343.800</td>\n",
       "      <td>2.04</td>\n",
       "      <td>12465.30</td>\n",
       "      <td>NaN</td>\n",
       "    </tr>\n",
       "    <tr>\n",
       "      <th>4</th>\n",
       "      <td>14.20890</td>\n",
       "      <td>-3.56282</td>\n",
       "      <td>9547.110</td>\n",
       "      <td>3.0220</td>\n",
       "      <td>-38.2200</td>\n",
       "      <td>-5389.220</td>\n",
       "      <td>5.3580</td>\n",
       "      <td>-4.06650</td>\n",
       "      <td>-5.25200</td>\n",
       "      <td>1</td>\n",
       "      <td>...</td>\n",
       "      <td>4.68100</td>\n",
       "      <td>-3419.89</td>\n",
       "      <td>-7.818000</td>\n",
       "      <td>-2260.410</td>\n",
       "      <td>1</td>\n",
       "      <td>14.2720</td>\n",
       "      <td>3763.838</td>\n",
       "      <td>2.04</td>\n",
       "      <td>12859.71</td>\n",
       "      <td>NaN</td>\n",
       "    </tr>\n",
       "    <tr>\n",
       "      <th>...</th>\n",
       "      <td>...</td>\n",
       "      <td>...</td>\n",
       "      <td>...</td>\n",
       "      <td>...</td>\n",
       "      <td>...</td>\n",
       "      <td>...</td>\n",
       "      <td>...</td>\n",
       "      <td>...</td>\n",
       "      <td>...</td>\n",
       "      <td>...</td>\n",
       "      <td>...</td>\n",
       "      <td>...</td>\n",
       "      <td>...</td>\n",
       "      <td>...</td>\n",
       "      <td>...</td>\n",
       "      <td>...</td>\n",
       "      <td>...</td>\n",
       "      <td>...</td>\n",
       "      <td>...</td>\n",
       "      <td>...</td>\n",
       "      <td>...</td>\n",
       "    </tr>\n",
       "    <tr>\n",
       "      <th>995</th>\n",
       "      <td>12.90840</td>\n",
       "      <td>-3.65420</td>\n",
       "      <td>10551.801</td>\n",
       "      <td>3.2120</td>\n",
       "      <td>-47.4200</td>\n",
       "      <td>-5456.602</td>\n",
       "      <td>6.9410</td>\n",
       "      <td>-1.79310</td>\n",
       "      <td>-7.91400</td>\n",
       "      <td>0</td>\n",
       "      <td>...</td>\n",
       "      <td>-2.11400</td>\n",
       "      <td>-3937.19</td>\n",
       "      <td>-4.667700</td>\n",
       "      <td>-1739.220</td>\n",
       "      <td>0</td>\n",
       "      <td>10.6118</td>\n",
       "      <td>3198.600</td>\n",
       "      <td>2.04</td>\n",
       "      <td>12511.56</td>\n",
       "      <td>15.32</td>\n",
       "    </tr>\n",
       "    <tr>\n",
       "      <th>996</th>\n",
       "      <td>14.11590</td>\n",
       "      <td>-3.55414</td>\n",
       "      <td>10907.610</td>\n",
       "      <td>2.5160</td>\n",
       "      <td>-60.1400</td>\n",
       "      <td>-5480.558</td>\n",
       "      <td>5.0525</td>\n",
       "      <td>-3.49680</td>\n",
       "      <td>-5.33470</td>\n",
       "      <td>1</td>\n",
       "      <td>...</td>\n",
       "      <td>-1.72600</td>\n",
       "      <td>-3574.09</td>\n",
       "      <td>-4.063680</td>\n",
       "      <td>-2418.507</td>\n",
       "      <td>0</td>\n",
       "      <td>9.7280</td>\n",
       "      <td>3155.000</td>\n",
       "      <td>0.04</td>\n",
       "      <td>12256.92</td>\n",
       "      <td>15.52</td>\n",
       "    </tr>\n",
       "    <tr>\n",
       "      <th>997</th>\n",
       "      <td>13.81770</td>\n",
       "      <td>-4.09350</td>\n",
       "      <td>10689.600</td>\n",
       "      <td>0.7696</td>\n",
       "      <td>-18.0840</td>\n",
       "      <td>-5493.040</td>\n",
       "      <td>7.3360</td>\n",
       "      <td>-8.34600</td>\n",
       "      <td>-5.31260</td>\n",
       "      <td>0</td>\n",
       "      <td>...</td>\n",
       "      <td>4.23900</td>\n",
       "      <td>-3280.69</td>\n",
       "      <td>-7.314000</td>\n",
       "      <td>-2377.140</td>\n",
       "      <td>0</td>\n",
       "      <td>12.4480</td>\n",
       "      <td>3355.200</td>\n",
       "      <td>0.04</td>\n",
       "      <td>12722.64</td>\n",
       "      <td>16.17</td>\n",
       "    </tr>\n",
       "    <tr>\n",
       "      <th>998</th>\n",
       "      <td>12.93780</td>\n",
       "      <td>-4.47550</td>\n",
       "      <td>10108.710</td>\n",
       "      <td>2.6080</td>\n",
       "      <td>-24.1540</td>\n",
       "      <td>-5476.712</td>\n",
       "      <td>5.3160</td>\n",
       "      <td>-7.30800</td>\n",
       "      <td>-4.63681</td>\n",
       "      <td>0</td>\n",
       "      <td>...</td>\n",
       "      <td>-6.40000</td>\n",
       "      <td>-3401.79</td>\n",
       "      <td>-3.833070</td>\n",
       "      <td>-2376.030</td>\n",
       "      <td>0</td>\n",
       "      <td>14.2000</td>\n",
       "      <td>3676.300</td>\n",
       "      <td>0.04</td>\n",
       "      <td>12434.52</td>\n",
       "      <td>13.78</td>\n",
       "    </tr>\n",
       "    <tr>\n",
       "      <th>999</th>\n",
       "      <td>21.28800</td>\n",
       "      <td>-4.68700</td>\n",
       "      <td>9238.110</td>\n",
       "      <td>0.8818</td>\n",
       "      <td>-14.3518</td>\n",
       "      <td>-5483.518</td>\n",
       "      <td>5.5300</td>\n",
       "      <td>-1.63320</td>\n",
       "      <td>-5.07610</td>\n",
       "      <td>1</td>\n",
       "      <td>...</td>\n",
       "      <td>-7.64000</td>\n",
       "      <td>-3715.37</td>\n",
       "      <td>-3.806397</td>\n",
       "      <td>-1440.420</td>\n",
       "      <td>0</td>\n",
       "      <td>9.9574</td>\n",
       "      <td>3478.000</td>\n",
       "      <td>0.04</td>\n",
       "      <td>12975.51</td>\n",
       "      <td>NaN</td>\n",
       "    </tr>\n",
       "  </tbody>\n",
       "</table>\n",
       "<p>1000 rows × 21 columns</p>\n",
       "</div>"
      ],
      "text/plain": [
       "           F1       F2         F3      F4       F5        F6      F7       F8  \\\n",
       "0    12.19434 -4.04080  12708.210  0.8192 -26.0320 -5646.140  5.4150 -1.91220   \n",
       "1    19.70700 -5.18200   9651.810  1.0418 -19.4540 -5541.680  5.2977 -6.02700   \n",
       "2    13.80600 -5.71600  10903.710  0.4244 -50.7200 -5488.610  5.2426 -4.63500   \n",
       "3    13.30020 -5.03500  10830.030  1.1048 -28.1660 -5395.760  4.6071 -1.56057   \n",
       "4    14.20890 -3.56282   9547.110  3.0220 -38.2200 -5389.220  5.3580 -4.06650   \n",
       "..        ...      ...        ...     ...      ...       ...     ...      ...   \n",
       "995  12.90840 -3.65420  10551.801  3.2120 -47.4200 -5456.602  6.9410 -1.79310   \n",
       "996  14.11590 -3.55414  10907.610  2.5160 -60.1400 -5480.558  5.0525 -3.49680   \n",
       "997  13.81770 -4.09350  10689.600  0.7696 -18.0840 -5493.040  7.3360 -8.34600   \n",
       "998  12.93780 -4.47550  10108.710  2.6080 -24.1540 -5476.712  5.3160 -7.30800   \n",
       "999  21.28800 -4.68700   9238.110  0.8818 -14.3518 -5483.518  5.5300 -1.63320   \n",
       "\n",
       "          F9  F10  ...       F12      F13       F14       F15  F16      F17  \\\n",
       "0   -4.69020    0  ...   5.83125   668.41 -3.889080 -2164.230    0  10.7196   \n",
       "1   -5.70300    1  ...   6.21360 -3801.77 -3.981990 -2175.450    0  12.6300   \n",
       "2   -5.26470    0  ...  10.55700 -3133.29 -5.562300 -2533.920    1  11.4600   \n",
       "3   -5.96500    0  ...   5.46110 -4097.59 -4.521900 -1490.520    0  13.0920   \n",
       "4   -5.25200    1  ...   4.68100 -3419.89 -7.818000 -2260.410    1  14.2720   \n",
       "..       ...  ...  ...       ...      ...       ...       ...  ...      ...   \n",
       "995 -7.91400    0  ...  -2.11400 -3937.19 -4.667700 -1739.220    0  10.6118   \n",
       "996 -5.33470    1  ...  -1.72600 -3574.09 -4.063680 -2418.507    0   9.7280   \n",
       "997 -5.31260    0  ...   4.23900 -3280.69 -7.314000 -2377.140    0  12.4480   \n",
       "998 -4.63681    0  ...  -6.40000 -3401.79 -3.833070 -2376.030    0  14.2000   \n",
       "999 -5.07610    1  ...  -7.64000 -3715.37 -3.806397 -1440.420    0   9.9574   \n",
       "\n",
       "          F18   F19       F20    F21  \n",
       "0    3054.800  0.04  12826.86    NaN  \n",
       "1    3427.200  0.04  13053.51  14.37  \n",
       "2    3663.620  2.04  13007.01    NaN  \n",
       "3    3343.800  2.04  12465.30    NaN  \n",
       "4    3763.838  2.04  12859.71    NaN  \n",
       "..        ...   ...       ...    ...  \n",
       "995  3198.600  2.04  12511.56  15.32  \n",
       "996  3155.000  0.04  12256.92  15.52  \n",
       "997  3355.200  0.04  12722.64  16.17  \n",
       "998  3676.300  0.04  12434.52  13.78  \n",
       "999  3478.000  0.04  12975.51    NaN  \n",
       "\n",
       "[1000 rows x 21 columns]"
      ]
     },
     "execution_count": 353,
     "metadata": {},
     "output_type": "execute_result"
    }
   ],
   "source": [
    "test_df = pd.read_csv('CE802_P2_Test.csv')\n",
    "test_data = test_df.iloc[:,:-1].copy()\n",
    "test_data"
   ]
  },
  {
   "cell_type": "markdown",
   "metadata": {},
   "source": [
    "#### Testing Data Pre-Processing"
   ]
  },
  {
   "cell_type": "markdown",
   "metadata": {},
   "source": [
    "##### Missing Data"
   ]
  },
  {
   "cell_type": "code",
   "execution_count": 354,
   "metadata": {},
   "outputs": [
    {
     "data": {
      "text/plain": [
       "F1       0\n",
       "F2       0\n",
       "F3       0\n",
       "F4       0\n",
       "F5       0\n",
       "F6       0\n",
       "F7       0\n",
       "F8       0\n",
       "F9       0\n",
       "F10      0\n",
       "F11      0\n",
       "F12      0\n",
       "F13      0\n",
       "F14      0\n",
       "F15      0\n",
       "F16      0\n",
       "F17      0\n",
       "F18      0\n",
       "F19      0\n",
       "F20      0\n",
       "F21    500\n",
       "dtype: int64"
      ]
     },
     "execution_count": 354,
     "metadata": {},
     "output_type": "execute_result"
    }
   ],
   "source": [
    "test_data.isna().sum()"
   ]
  },
  {
   "cell_type": "markdown",
   "metadata": {},
   "source": [
    "Getting Information About Column 'F21'"
   ]
  },
  {
   "cell_type": "code",
   "execution_count": 355,
   "metadata": {},
   "outputs": [
    {
     "data": {
      "text/plain": [
       "count    500.000000\n",
       "mean      14.726380\n",
       "std        1.053944\n",
       "min       10.320000\n",
       "25%       13.987500\n",
       "50%       14.750000\n",
       "75%       15.450000\n",
       "max       17.670000\n",
       "Name: F21, dtype: float64"
      ]
     },
     "execution_count": 355,
     "metadata": {},
     "output_type": "execute_result"
    }
   ],
   "source": [
    "test_data['F21'].describe()"
   ]
  },
  {
   "cell_type": "markdown",
   "metadata": {},
   "source": [
    "Replacing Missing Data"
   ]
  },
  {
   "cell_type": "code",
   "execution_count": 356,
   "metadata": {},
   "outputs": [
    {
     "data": {
      "text/plain": [
       "0"
      ]
     },
     "execution_count": 356,
     "metadata": {},
     "output_type": "execute_result"
    }
   ],
   "source": [
    "test_data['F21'].fillna(test_data['F21'].mean(), inplace=True)\n",
    "test_data['F21'].isna().sum()"
   ]
  },
  {
   "cell_type": "markdown",
   "metadata": {},
   "source": [
    "#### Making Predictions"
   ]
  },
  {
   "cell_type": "code",
   "execution_count": 357,
   "metadata": {},
   "outputs": [],
   "source": [
    "predicted = model.predict(test_data)\n",
    "test_df.iloc[:,-1] = predicted"
   ]
  },
  {
   "cell_type": "markdown",
   "metadata": {},
   "source": [
    "#### Saving Predictions"
   ]
  },
  {
   "cell_type": "code",
   "execution_count": 358,
   "metadata": {},
   "outputs": [],
   "source": [
    "test_df.to_csv('CE802_P2_Test_Predictions.csv', index=False, float_format='%.8g')\n",
    "assert pd.read_csv('CE802_P2_Test.csv').iloc[:,:-1].equals(pd.read_csv('CE802_P2_Test_Predictions.csv').iloc[:,:-1])"
   ]
  }
 ],
 "metadata": {
  "kernelspec": {
   "display_name": "Python 3",
   "language": "python",
   "name": "python3"
  },
  "language_info": {
   "codemirror_mode": {
    "name": "ipython",
    "version": 3
   },
   "file_extension": ".py",
   "mimetype": "text/x-python",
   "name": "python",
   "nbconvert_exporter": "python",
   "pygments_lexer": "ipython3",
   "version": "3.8.0"
  }
 },
 "nbformat": 4,
 "nbformat_minor": 4
}
