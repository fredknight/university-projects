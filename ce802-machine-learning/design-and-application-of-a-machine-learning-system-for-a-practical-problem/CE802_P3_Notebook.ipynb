{
 "cells": [
  {
   "cell_type": "markdown",
   "metadata": {},
   "source": [
    "## Part A"
   ]
  },
  {
   "cell_type": "markdown",
   "metadata": {},
   "source": [
    "#### Importing Required Libraries"
   ]
  },
  {
   "cell_type": "code",
   "execution_count": 1370,
   "metadata": {},
   "outputs": [],
   "source": [
    "import pandas as pd\n",
    "import numpy as np\n",
    "import seaborn as sns\n",
    "import pickle\n",
    "import matplotlib.pyplot as plt\n",
    "from sklearn.feature_selection import SelectKBest, mutual_info_regression, f_regression\n",
    "from sklearn.metrics import r2_score, mean_squared_error\n",
    "from sklearn.model_selection import train_test_split, GridSearchCV\n",
    "from sklearn.pipeline import Pipeline\n",
    "from sklearn.preprocessing import StandardScaler\n",
    "\n",
    "sc = StandardScaler()"
   ]
  },
  {
   "cell_type": "markdown",
   "metadata": {},
   "source": [
    "#### Importing Training Data"
   ]
  },
  {
   "cell_type": "code",
   "execution_count": 1371,
   "metadata": {},
   "outputs": [
    {
     "data": {
      "text/html": [
       "<div>\n",
       "<style scoped>\n",
       "    .dataframe tbody tr th:only-of-type {\n",
       "        vertical-align: middle;\n",
       "    }\n",
       "\n",
       "    .dataframe tbody tr th {\n",
       "        vertical-align: top;\n",
       "    }\n",
       "\n",
       "    .dataframe thead th {\n",
       "        text-align: right;\n",
       "    }\n",
       "</style>\n",
       "<table border=\"1\" class=\"dataframe\">\n",
       "  <thead>\n",
       "    <tr style=\"text-align: right;\">\n",
       "      <th></th>\n",
       "      <th>F1</th>\n",
       "      <th>F2</th>\n",
       "      <th>F3</th>\n",
       "      <th>F4</th>\n",
       "      <th>F5</th>\n",
       "      <th>F6</th>\n",
       "      <th>F7</th>\n",
       "      <th>F8</th>\n",
       "      <th>F9</th>\n",
       "      <th>F10</th>\n",
       "      <th>...</th>\n",
       "      <th>F28</th>\n",
       "      <th>F29</th>\n",
       "      <th>F30</th>\n",
       "      <th>F31</th>\n",
       "      <th>F32</th>\n",
       "      <th>F33</th>\n",
       "      <th>F34</th>\n",
       "      <th>F35</th>\n",
       "      <th>F36</th>\n",
       "      <th>Target</th>\n",
       "    </tr>\n",
       "  </thead>\n",
       "  <tbody>\n",
       "    <tr>\n",
       "      <th>0</th>\n",
       "      <td>271.78</td>\n",
       "      <td>-21.92</td>\n",
       "      <td>UK</td>\n",
       "      <td>-10.80</td>\n",
       "      <td>1899.57</td>\n",
       "      <td>17.98</td>\n",
       "      <td>-21749.82</td>\n",
       "      <td>91.94</td>\n",
       "      <td>855.61</td>\n",
       "      <td>10.01</td>\n",
       "      <td>...</td>\n",
       "      <td>2098.80</td>\n",
       "      <td>500.16</td>\n",
       "      <td>-6325.53</td>\n",
       "      <td>1.36</td>\n",
       "      <td>-33.14</td>\n",
       "      <td>177.34</td>\n",
       "      <td>-141.97</td>\n",
       "      <td>101.52</td>\n",
       "      <td>5</td>\n",
       "      <td>189.03</td>\n",
       "    </tr>\n",
       "    <tr>\n",
       "      <th>1</th>\n",
       "      <td>202.54</td>\n",
       "      <td>43.82</td>\n",
       "      <td>USA</td>\n",
       "      <td>-16.94</td>\n",
       "      <td>1941.57</td>\n",
       "      <td>-9.16</td>\n",
       "      <td>-27668.04</td>\n",
       "      <td>93.50</td>\n",
       "      <td>975.44</td>\n",
       "      <td>7.29</td>\n",
       "      <td>...</td>\n",
       "      <td>1668.70</td>\n",
       "      <td>434.97</td>\n",
       "      <td>-6172.05</td>\n",
       "      <td>2.59</td>\n",
       "      <td>-58.87</td>\n",
       "      <td>87.48</td>\n",
       "      <td>-154.11</td>\n",
       "      <td>623.22</td>\n",
       "      <td>6</td>\n",
       "      <td>187.17</td>\n",
       "    </tr>\n",
       "    <tr>\n",
       "      <th>2</th>\n",
       "      <td>220.26</td>\n",
       "      <td>88.90</td>\n",
       "      <td>Europe</td>\n",
       "      <td>-18.76</td>\n",
       "      <td>2298.12</td>\n",
       "      <td>-18.38</td>\n",
       "      <td>-11548.56</td>\n",
       "      <td>65.16</td>\n",
       "      <td>1114.28</td>\n",
       "      <td>12.05</td>\n",
       "      <td>...</td>\n",
       "      <td>2604.56</td>\n",
       "      <td>252.93</td>\n",
       "      <td>-10132.68</td>\n",
       "      <td>2.94</td>\n",
       "      <td>-40.89</td>\n",
       "      <td>271.00</td>\n",
       "      <td>-279.84</td>\n",
       "      <td>284.96</td>\n",
       "      <td>2</td>\n",
       "      <td>1016.24</td>\n",
       "    </tr>\n",
       "    <tr>\n",
       "      <th>3</th>\n",
       "      <td>141.00</td>\n",
       "      <td>140.72</td>\n",
       "      <td>Europe</td>\n",
       "      <td>-19.86</td>\n",
       "      <td>-133.32</td>\n",
       "      <td>-57.00</td>\n",
       "      <td>-16200.96</td>\n",
       "      <td>-14.00</td>\n",
       "      <td>910.12</td>\n",
       "      <td>4.54</td>\n",
       "      <td>...</td>\n",
       "      <td>2595.56</td>\n",
       "      <td>154.83</td>\n",
       "      <td>-7862.04</td>\n",
       "      <td>0.86</td>\n",
       "      <td>-117.03</td>\n",
       "      <td>201.66</td>\n",
       "      <td>-153.93</td>\n",
       "      <td>532.19</td>\n",
       "      <td>4</td>\n",
       "      <td>-141.18</td>\n",
       "    </tr>\n",
       "    <tr>\n",
       "      <th>4</th>\n",
       "      <td>165.04</td>\n",
       "      <td>2.74</td>\n",
       "      <td>Europe</td>\n",
       "      <td>-21.34</td>\n",
       "      <td>3077.07</td>\n",
       "      <td>-20.50</td>\n",
       "      <td>-25683.06</td>\n",
       "      <td>29.08</td>\n",
       "      <td>216.24</td>\n",
       "      <td>10.10</td>\n",
       "      <td>...</td>\n",
       "      <td>1066.80</td>\n",
       "      <td>316.68</td>\n",
       "      <td>-6093.81</td>\n",
       "      <td>3.59</td>\n",
       "      <td>-63.84</td>\n",
       "      <td>211.82</td>\n",
       "      <td>-182.34</td>\n",
       "      <td>373.14</td>\n",
       "      <td>5</td>\n",
       "      <td>33.17</td>\n",
       "    </tr>\n",
       "    <tr>\n",
       "      <th>...</th>\n",
       "      <td>...</td>\n",
       "      <td>...</td>\n",
       "      <td>...</td>\n",
       "      <td>...</td>\n",
       "      <td>...</td>\n",
       "      <td>...</td>\n",
       "      <td>...</td>\n",
       "      <td>...</td>\n",
       "      <td>...</td>\n",
       "      <td>...</td>\n",
       "      <td>...</td>\n",
       "      <td>...</td>\n",
       "      <td>...</td>\n",
       "      <td>...</td>\n",
       "      <td>...</td>\n",
       "      <td>...</td>\n",
       "      <td>...</td>\n",
       "      <td>...</td>\n",
       "      <td>...</td>\n",
       "      <td>...</td>\n",
       "      <td>...</td>\n",
       "    </tr>\n",
       "    <tr>\n",
       "      <th>1495</th>\n",
       "      <td>136.78</td>\n",
       "      <td>-118.70</td>\n",
       "      <td>UK</td>\n",
       "      <td>-11.00</td>\n",
       "      <td>-2182.26</td>\n",
       "      <td>61.36</td>\n",
       "      <td>-28652.91</td>\n",
       "      <td>122.18</td>\n",
       "      <td>931.96</td>\n",
       "      <td>5.24</td>\n",
       "      <td>...</td>\n",
       "      <td>2027.26</td>\n",
       "      <td>217.35</td>\n",
       "      <td>-6333.81</td>\n",
       "      <td>2.70</td>\n",
       "      <td>-61.49</td>\n",
       "      <td>130.68</td>\n",
       "      <td>-170.57</td>\n",
       "      <td>320.11</td>\n",
       "      <td>2</td>\n",
       "      <td>794.82</td>\n",
       "    </tr>\n",
       "    <tr>\n",
       "      <th>1496</th>\n",
       "      <td>237.54</td>\n",
       "      <td>22.46</td>\n",
       "      <td>Europe</td>\n",
       "      <td>-14.26</td>\n",
       "      <td>3708.21</td>\n",
       "      <td>-13.08</td>\n",
       "      <td>-32394.33</td>\n",
       "      <td>128.58</td>\n",
       "      <td>405.60</td>\n",
       "      <td>10.36</td>\n",
       "      <td>...</td>\n",
       "      <td>971.88</td>\n",
       "      <td>486.51</td>\n",
       "      <td>-7549.68</td>\n",
       "      <td>5.53</td>\n",
       "      <td>-15.97</td>\n",
       "      <td>110.64</td>\n",
       "      <td>-163.60</td>\n",
       "      <td>472.43</td>\n",
       "      <td>6</td>\n",
       "      <td>2599.94</td>\n",
       "    </tr>\n",
       "    <tr>\n",
       "      <th>1497</th>\n",
       "      <td>144.24</td>\n",
       "      <td>7.18</td>\n",
       "      <td>USA</td>\n",
       "      <td>-19.48</td>\n",
       "      <td>3350.37</td>\n",
       "      <td>-42.80</td>\n",
       "      <td>-29448.90</td>\n",
       "      <td>35.42</td>\n",
       "      <td>253.94</td>\n",
       "      <td>9.34</td>\n",
       "      <td>...</td>\n",
       "      <td>2029.48</td>\n",
       "      <td>248.22</td>\n",
       "      <td>-6041.88</td>\n",
       "      <td>2.64</td>\n",
       "      <td>-33.76</td>\n",
       "      <td>143.46</td>\n",
       "      <td>-256.58</td>\n",
       "      <td>626.90</td>\n",
       "      <td>7</td>\n",
       "      <td>-171.98</td>\n",
       "    </tr>\n",
       "    <tr>\n",
       "      <th>1498</th>\n",
       "      <td>340.12</td>\n",
       "      <td>-72.58</td>\n",
       "      <td>Europe</td>\n",
       "      <td>-17.18</td>\n",
       "      <td>-244.83</td>\n",
       "      <td>178.16</td>\n",
       "      <td>-23377.80</td>\n",
       "      <td>178.96</td>\n",
       "      <td>683.61</td>\n",
       "      <td>8.55</td>\n",
       "      <td>...</td>\n",
       "      <td>1932.58</td>\n",
       "      <td>190.11</td>\n",
       "      <td>-8329.20</td>\n",
       "      <td>3.59</td>\n",
       "      <td>-107.77</td>\n",
       "      <td>150.18</td>\n",
       "      <td>-169.05</td>\n",
       "      <td>288.63</td>\n",
       "      <td>6</td>\n",
       "      <td>489.46</td>\n",
       "    </tr>\n",
       "    <tr>\n",
       "      <th>1499</th>\n",
       "      <td>182.82</td>\n",
       "      <td>-82.10</td>\n",
       "      <td>Europe</td>\n",
       "      <td>-21.46</td>\n",
       "      <td>1489.38</td>\n",
       "      <td>136.48</td>\n",
       "      <td>-19995.87</td>\n",
       "      <td>93.32</td>\n",
       "      <td>482.76</td>\n",
       "      <td>5.62</td>\n",
       "      <td>...</td>\n",
       "      <td>725.98</td>\n",
       "      <td>224.85</td>\n",
       "      <td>-6684.48</td>\n",
       "      <td>7.27</td>\n",
       "      <td>-46.96</td>\n",
       "      <td>215.90</td>\n",
       "      <td>-180.41</td>\n",
       "      <td>290.08</td>\n",
       "      <td>6</td>\n",
       "      <td>3784.99</td>\n",
       "    </tr>\n",
       "  </tbody>\n",
       "</table>\n",
       "<p>1500 rows × 37 columns</p>\n",
       "</div>"
      ],
      "text/plain": [
       "          F1      F2      F3     F4       F5      F6        F7      F8  \\\n",
       "0     271.78  -21.92      UK -10.80  1899.57   17.98 -21749.82   91.94   \n",
       "1     202.54   43.82     USA -16.94  1941.57   -9.16 -27668.04   93.50   \n",
       "2     220.26   88.90  Europe -18.76  2298.12  -18.38 -11548.56   65.16   \n",
       "3     141.00  140.72  Europe -19.86  -133.32  -57.00 -16200.96  -14.00   \n",
       "4     165.04    2.74  Europe -21.34  3077.07  -20.50 -25683.06   29.08   \n",
       "...      ...     ...     ...    ...      ...     ...       ...     ...   \n",
       "1495  136.78 -118.70      UK -11.00 -2182.26   61.36 -28652.91  122.18   \n",
       "1496  237.54   22.46  Europe -14.26  3708.21  -13.08 -32394.33  128.58   \n",
       "1497  144.24    7.18     USA -19.48  3350.37  -42.80 -29448.90   35.42   \n",
       "1498  340.12  -72.58  Europe -17.18  -244.83  178.16 -23377.80  178.96   \n",
       "1499  182.82  -82.10  Europe -21.46  1489.38  136.48 -19995.87   93.32   \n",
       "\n",
       "           F9    F10  ...      F28     F29       F30   F31     F32     F33  \\\n",
       "0      855.61  10.01  ...  2098.80  500.16  -6325.53  1.36  -33.14  177.34   \n",
       "1      975.44   7.29  ...  1668.70  434.97  -6172.05  2.59  -58.87   87.48   \n",
       "2     1114.28  12.05  ...  2604.56  252.93 -10132.68  2.94  -40.89  271.00   \n",
       "3      910.12   4.54  ...  2595.56  154.83  -7862.04  0.86 -117.03  201.66   \n",
       "4      216.24  10.10  ...  1066.80  316.68  -6093.81  3.59  -63.84  211.82   \n",
       "...       ...    ...  ...      ...     ...       ...   ...     ...     ...   \n",
       "1495   931.96   5.24  ...  2027.26  217.35  -6333.81  2.70  -61.49  130.68   \n",
       "1496   405.60  10.36  ...   971.88  486.51  -7549.68  5.53  -15.97  110.64   \n",
       "1497   253.94   9.34  ...  2029.48  248.22  -6041.88  2.64  -33.76  143.46   \n",
       "1498   683.61   8.55  ...  1932.58  190.11  -8329.20  3.59 -107.77  150.18   \n",
       "1499   482.76   5.62  ...   725.98  224.85  -6684.48  7.27  -46.96  215.90   \n",
       "\n",
       "         F34     F35  F36   Target  \n",
       "0    -141.97  101.52    5   189.03  \n",
       "1    -154.11  623.22    6   187.17  \n",
       "2    -279.84  284.96    2  1016.24  \n",
       "3    -153.93  532.19    4  -141.18  \n",
       "4    -182.34  373.14    5    33.17  \n",
       "...      ...     ...  ...      ...  \n",
       "1495 -170.57  320.11    2   794.82  \n",
       "1496 -163.60  472.43    6  2599.94  \n",
       "1497 -256.58  626.90    7  -171.98  \n",
       "1498 -169.05  288.63    6   489.46  \n",
       "1499 -180.41  290.08    6  3784.99  \n",
       "\n",
       "[1500 rows x 37 columns]"
      ]
     },
     "execution_count": 1371,
     "metadata": {},
     "output_type": "execute_result"
    }
   ],
   "source": [
    "train_df = pd.read_csv('CE802_P3_Data.csv')\n",
    "train_data = train_df.copy()\n",
    "train_data"
   ]
  },
  {
   "cell_type": "markdown",
   "metadata": {},
   "source": [
    "#### Data Preparation (Part One)"
   ]
  },
  {
   "cell_type": "markdown",
   "metadata": {},
   "source": [
    "##### Checking Column Data Types"
   ]
  },
  {
   "cell_type": "code",
   "execution_count": 1372,
   "metadata": {},
   "outputs": [
    {
     "data": {
      "text/plain": [
       "F1        float64\n",
       "F2        float64\n",
       "F3         object\n",
       "F4        float64\n",
       "F5        float64\n",
       "F6        float64\n",
       "F7        float64\n",
       "F8        float64\n",
       "F9        float64\n",
       "F10       float64\n",
       "F11        object\n",
       "F12       float64\n",
       "F13       float64\n",
       "F14       float64\n",
       "F15       float64\n",
       "F16       float64\n",
       "F17       float64\n",
       "F18       float64\n",
       "F19       float64\n",
       "F20       float64\n",
       "F21       float64\n",
       "F22       float64\n",
       "F23         int64\n",
       "F24       float64\n",
       "F25       float64\n",
       "F26       float64\n",
       "F27       float64\n",
       "F28       float64\n",
       "F29       float64\n",
       "F30       float64\n",
       "F31       float64\n",
       "F32       float64\n",
       "F33       float64\n",
       "F34       float64\n",
       "F35       float64\n",
       "F36         int64\n",
       "Target    float64\n",
       "dtype: object"
      ]
     },
     "execution_count": 1372,
     "metadata": {},
     "output_type": "execute_result"
    }
   ],
   "source": [
    "train_data.dtypes"
   ]
  },
  {
   "cell_type": "markdown",
   "metadata": {},
   "source": [
    "##### Converting Categorical Values"
   ]
  },
  {
   "cell_type": "markdown",
   "metadata": {},
   "source": [
    "Getting Information About Column 'F3'"
   ]
  },
  {
   "cell_type": "code",
   "execution_count": 1373,
   "metadata": {},
   "outputs": [
    {
     "data": {
      "text/plain": [
       "0           UK\n",
       "1          USA\n",
       "2       Europe\n",
       "3       Europe\n",
       "4       Europe\n",
       "         ...  \n",
       "1495        UK\n",
       "1496    Europe\n",
       "1497       USA\n",
       "1498    Europe\n",
       "1499    Europe\n",
       "Name: F3, Length: 1500, dtype: object"
      ]
     },
     "execution_count": 1373,
     "metadata": {},
     "output_type": "execute_result"
    }
   ],
   "source": [
    "train_data['F3']"
   ]
  },
  {
   "cell_type": "markdown",
   "metadata": {},
   "source": [
    "Performing One-Hot Encoding"
   ]
  },
  {
   "cell_type": "code",
   "execution_count": 1374,
   "metadata": {},
   "outputs": [
    {
     "data": {
      "text/html": [
       "<div>\n",
       "<style scoped>\n",
       "    .dataframe tbody tr th:only-of-type {\n",
       "        vertical-align: middle;\n",
       "    }\n",
       "\n",
       "    .dataframe tbody tr th {\n",
       "        vertical-align: top;\n",
       "    }\n",
       "\n",
       "    .dataframe thead th {\n",
       "        text-align: right;\n",
       "    }\n",
       "</style>\n",
       "<table border=\"1\" class=\"dataframe\">\n",
       "  <thead>\n",
       "    <tr style=\"text-align: right;\">\n",
       "      <th></th>\n",
       "      <th>F3_Europe</th>\n",
       "      <th>F3_Rest</th>\n",
       "      <th>F3_UK</th>\n",
       "      <th>F3_USA</th>\n",
       "    </tr>\n",
       "  </thead>\n",
       "  <tbody>\n",
       "    <tr>\n",
       "      <th>0</th>\n",
       "      <td>0</td>\n",
       "      <td>0</td>\n",
       "      <td>1</td>\n",
       "      <td>0</td>\n",
       "    </tr>\n",
       "    <tr>\n",
       "      <th>1</th>\n",
       "      <td>0</td>\n",
       "      <td>0</td>\n",
       "      <td>0</td>\n",
       "      <td>1</td>\n",
       "    </tr>\n",
       "    <tr>\n",
       "      <th>2</th>\n",
       "      <td>1</td>\n",
       "      <td>0</td>\n",
       "      <td>0</td>\n",
       "      <td>0</td>\n",
       "    </tr>\n",
       "    <tr>\n",
       "      <th>3</th>\n",
       "      <td>1</td>\n",
       "      <td>0</td>\n",
       "      <td>0</td>\n",
       "      <td>0</td>\n",
       "    </tr>\n",
       "    <tr>\n",
       "      <th>4</th>\n",
       "      <td>1</td>\n",
       "      <td>0</td>\n",
       "      <td>0</td>\n",
       "      <td>0</td>\n",
       "    </tr>\n",
       "    <tr>\n",
       "      <th>...</th>\n",
       "      <td>...</td>\n",
       "      <td>...</td>\n",
       "      <td>...</td>\n",
       "      <td>...</td>\n",
       "    </tr>\n",
       "    <tr>\n",
       "      <th>1495</th>\n",
       "      <td>0</td>\n",
       "      <td>0</td>\n",
       "      <td>1</td>\n",
       "      <td>0</td>\n",
       "    </tr>\n",
       "    <tr>\n",
       "      <th>1496</th>\n",
       "      <td>1</td>\n",
       "      <td>0</td>\n",
       "      <td>0</td>\n",
       "      <td>0</td>\n",
       "    </tr>\n",
       "    <tr>\n",
       "      <th>1497</th>\n",
       "      <td>0</td>\n",
       "      <td>0</td>\n",
       "      <td>0</td>\n",
       "      <td>1</td>\n",
       "    </tr>\n",
       "    <tr>\n",
       "      <th>1498</th>\n",
       "      <td>1</td>\n",
       "      <td>0</td>\n",
       "      <td>0</td>\n",
       "      <td>0</td>\n",
       "    </tr>\n",
       "    <tr>\n",
       "      <th>1499</th>\n",
       "      <td>1</td>\n",
       "      <td>0</td>\n",
       "      <td>0</td>\n",
       "      <td>0</td>\n",
       "    </tr>\n",
       "  </tbody>\n",
       "</table>\n",
       "<p>1500 rows × 4 columns</p>\n",
       "</div>"
      ],
      "text/plain": [
       "      F3_Europe  F3_Rest  F3_UK  F3_USA\n",
       "0             0        0      1       0\n",
       "1             0        0      0       1\n",
       "2             1        0      0       0\n",
       "3             1        0      0       0\n",
       "4             1        0      0       0\n",
       "...         ...      ...    ...     ...\n",
       "1495          0        0      1       0\n",
       "1496          1        0      0       0\n",
       "1497          0        0      0       1\n",
       "1498          1        0      0       0\n",
       "1499          1        0      0       0\n",
       "\n",
       "[1500 rows x 4 columns]"
      ]
     },
     "execution_count": 1374,
     "metadata": {},
     "output_type": "execute_result"
    }
   ],
   "source": [
    "train_data = pd.get_dummies(train_data, columns=['F3'])\n",
    "train_data.loc[:, train_data.columns.str.startswith(\"F3_\")]"
   ]
  },
  {
   "cell_type": "markdown",
   "metadata": {},
   "source": [
    "Getting Information About Column 'F11'"
   ]
  },
  {
   "cell_type": "code",
   "execution_count": 1375,
   "metadata": {},
   "outputs": [
    {
     "data": {
      "text/plain": [
       "0        Very low\n",
       "1          Medium\n",
       "2          Medium\n",
       "3             Low\n",
       "4        Very low\n",
       "          ...    \n",
       "1495    Very high\n",
       "1496       Medium\n",
       "1497       Medium\n",
       "1498          Low\n",
       "1499    Very high\n",
       "Name: F11, Length: 1500, dtype: object"
      ]
     },
     "execution_count": 1375,
     "metadata": {},
     "output_type": "execute_result"
    }
   ],
   "source": [
    "train_data['F11']"
   ]
  },
  {
   "cell_type": "markdown",
   "metadata": {},
   "source": [
    "Replacing Ordinal Data with Arbitrary Numbers"
   ]
  },
  {
   "cell_type": "code",
   "execution_count": 1376,
   "metadata": {},
   "outputs": [
    {
     "data": {
      "text/plain": [
       "0       0\n",
       "1       2\n",
       "2       2\n",
       "3       1\n",
       "4       0\n",
       "       ..\n",
       "1495    4\n",
       "1496    2\n",
       "1497    2\n",
       "1498    1\n",
       "1499    4\n",
       "Name: F11, Length: 1500, dtype: int64"
      ]
     },
     "execution_count": 1376,
     "metadata": {},
     "output_type": "execute_result"
    }
   ],
   "source": [
    "cleanup = {\"F11\": {\"Very low\": 0, \"Low\" : 1, \"Medium\": 2, \"High\": 3, \"Very high\": 4}}\n",
    "train_data.replace(cleanup, inplace=True)\n",
    "train_data['F11']"
   ]
  },
  {
   "cell_type": "markdown",
   "metadata": {},
   "source": [
    "#### Training Data Pre-Processing"
   ]
  },
  {
   "cell_type": "markdown",
   "metadata": {},
   "source": [
    "##### Missing Data"
   ]
  },
  {
   "cell_type": "markdown",
   "metadata": {},
   "source": [
    "Checking for Missing Data"
   ]
  },
  {
   "cell_type": "code",
   "execution_count": 1377,
   "metadata": {},
   "outputs": [
    {
     "data": {
      "text/plain": [
       "F1           0\n",
       "F2           0\n",
       "F4           0\n",
       "F5           0\n",
       "F6           0\n",
       "F7           0\n",
       "F8           0\n",
       "F9           0\n",
       "F10          0\n",
       "F11          0\n",
       "F12          0\n",
       "F13          0\n",
       "F14          0\n",
       "F15          0\n",
       "F16          0\n",
       "F17          0\n",
       "F18          0\n",
       "F19          0\n",
       "F20          0\n",
       "F21          0\n",
       "F22          0\n",
       "F23          0\n",
       "F24          0\n",
       "F25          0\n",
       "F26          0\n",
       "F27          0\n",
       "F28          0\n",
       "F29          0\n",
       "F30          0\n",
       "F31          0\n",
       "F32          0\n",
       "F33          0\n",
       "F34          0\n",
       "F35          0\n",
       "F36          0\n",
       "Target       0\n",
       "F3_Europe    0\n",
       "F3_Rest      0\n",
       "F3_UK        0\n",
       "F3_USA       0\n",
       "dtype: int64"
      ]
     },
     "execution_count": 1377,
     "metadata": {},
     "output_type": "execute_result"
    }
   ],
   "source": [
    "train_data.isna().sum()"
   ]
  },
  {
   "cell_type": "markdown",
   "metadata": {},
   "source": [
    "No Missing Data"
   ]
  },
  {
   "cell_type": "markdown",
   "metadata": {},
   "source": [
    "#### Data Visualization"
   ]
  },
  {
   "cell_type": "markdown",
   "metadata": {},
   "source": [
    "##### Checking for False Predictors"
   ]
  },
  {
   "cell_type": "code",
   "execution_count": 1378,
   "metadata": {},
   "outputs": [
    {
     "data": {
      "image/png": "[encoded data removed]",
      "text/plain": [
       "<Figure size 1800x720 with 39 Axes>"
      ]
     },
     "metadata": {},
     "output_type": "display_data"
    }
   ],
   "source": [
    "x = train_data.loc[:, train_data.columns != 'Target'].to_numpy()\n",
    "y = train_data.loc[:, 'Target'].to_numpy()\n",
    "plt.figure(figsize=(25, 10))\n",
    "for i in range(x.shape[1]):\n",
    "    plt.subplot(5, 8, i+1)\n",
    "    plt.scatter(y,x[:,i])\n",
    "    plt.title(train_data.columns[i])\n",
    "plt.tight_layout()\n",
    "plt.show()"
   ]
  },
  {
   "cell_type": "markdown",
   "metadata": {},
   "source": [
    "No Obvious False Predictors Found"
   ]
  },
  {
   "cell_type": "markdown",
   "metadata": {},
   "source": [
    "##### Checking Feature Correlation"
   ]
  },
  {
   "cell_type": "code",
   "execution_count": 1379,
   "metadata": {},
   "outputs": [
    {
     "data": {
      "text/plain": [
       "F1           0.010754\n",
       "F2          -0.056762\n",
       "F4           0.006143\n",
       "F5          -0.025662\n",
       "F6          -0.041725\n",
       "F7          -0.017988\n",
       "F8          -0.052481\n",
       "F9           0.001310\n",
       "F10          0.043625\n",
       "F11          0.301984\n",
       "F12          0.048893\n",
       "F13          0.463560\n",
       "F14         -0.019449\n",
       "F15         -0.293027\n",
       "F16          0.015091\n",
       "F17         -0.001184\n",
       "F18         -0.211590\n",
       "F19         -0.050519\n",
       "F20          0.106413\n",
       "F21         -0.022837\n",
       "F22          0.021697\n",
       "F23         -0.135855\n",
       "F24         -0.015650\n",
       "F25          0.004574\n",
       "F26         -0.033530\n",
       "F27          0.003702\n",
       "F28         -0.085837\n",
       "F29          0.018111\n",
       "F30         -0.054768\n",
       "F31          0.007440\n",
       "F32         -0.023321\n",
       "F33          0.036877\n",
       "F34         -0.082510\n",
       "F35         -0.078041\n",
       "F36         -0.330411\n",
       "Target       1.000000\n",
       "F3_Europe    0.290149\n",
       "F3_Rest     -0.011240\n",
       "F3_UK       -0.095913\n",
       "F3_USA      -0.186233\n",
       "Name: Target, dtype: float64"
      ]
     },
     "execution_count": 1379,
     "metadata": {},
     "output_type": "execute_result"
    },
    {
     "data": {
      "image/png": "[encoded data removed]",
      "text/plain": [
       "<Figure size 1080x540 with 2 Axes>"
      ]
     },
     "metadata": {},
     "output_type": "display_data"
    }
   ],
   "source": [
    "sns.set(rc = {'figure.figsize':(15,7.5)})\n",
    "sns.heatmap(train_data.corr(), linewidth=0.5)\n",
    "train_data[train_data.columns[:]].corr()['Target'][:]"
   ]
  },
  {
   "cell_type": "markdown",
   "metadata": {},
   "source": [
    "Column 'F13' Appears to Have a Fairly Strong Correlation to the 'Target' Column"
   ]
  },
  {
   "cell_type": "markdown",
   "metadata": {},
   "source": [
    "Columns With Prefix 'F3_' Also Have a Noticeable Negative Correlation to the 'Target' Column"
   ]
  },
  {
   "cell_type": "markdown",
   "metadata": {},
   "source": [
    "#### Data Preparation (Part Two)"
   ]
  },
  {
   "cell_type": "markdown",
   "metadata": {},
   "source": [
    "##### Separating Target Column"
   ]
  },
  {
   "cell_type": "code",
   "execution_count": 1380,
   "metadata": {},
   "outputs": [],
   "source": [
    "x = train_data.loc[:, train_data.columns != 'Target'].to_numpy()\n",
    "y = train_data.loc[:, 'Target'].to_numpy()"
   ]
  },
  {
   "cell_type": "markdown",
   "metadata": {},
   "source": [
    "##### Data Partioning"
   ]
  },
  {
   "cell_type": "code",
   "execution_count": 1381,
   "metadata": {},
   "outputs": [],
   "source": [
    "x_train, x_test, y_train, y_test = train_test_split(x, y, test_size=0.3)"
   ]
  },
  {
   "cell_type": "markdown",
   "metadata": {},
   "source": [
    "##### Feature Selection"
   ]
  },
  {
   "cell_type": "code",
   "execution_count": 1382,
   "metadata": {},
   "outputs": [
    {
     "name": "stdout",
     "output_type": "stream",
     "text": [
      "Feature 0: 0.004245\n",
      "Feature 1: 0.014810\n",
      "Feature 2: 0.006248\n",
      "Feature 3: 0.002416\n",
      "Feature 4: 0.000000\n",
      "Feature 5: 0.011113\n",
      "Feature 6: 0.061816\n",
      "Feature 7: 0.014439\n",
      "Feature 8: 0.003050\n",
      "Feature 9: 0.049909\n",
      "Feature 10: 0.000000\n",
      "Feature 11: 0.161140\n",
      "Feature 12: 0.006624\n",
      "Feature 13: 0.075611\n",
      "Feature 14: 0.000000\n",
      "Feature 15: 0.001439\n",
      "Feature 16: 0.030799\n",
      "Feature 17: 0.020329\n",
      "Feature 18: 0.076488\n",
      "Feature 19: 0.013036\n",
      "Feature 20: 0.000000\n",
      "Feature 21: 0.018134\n",
      "Feature 22: 0.000000\n",
      "Feature 23: 0.000000\n",
      "Feature 24: 0.021499\n",
      "Feature 25: 0.012589\n",
      "Feature 26: 0.011135\n",
      "Feature 27: 0.000000\n",
      "Feature 28: 0.000000\n",
      "Feature 29: 0.007162\n",
      "Feature 30: 0.022285\n",
      "Feature 31: 0.000000\n",
      "Feature 32: 0.077985\n",
      "Feature 33: 0.000000\n",
      "Feature 34: 0.069432\n",
      "Feature 35: 0.136763\n",
      "Feature 36: 0.120275\n",
      "Feature 37: 0.058103\n",
      "Feature 38: 0.136744\n"
     ]
    },
    {
     "data": {
      "image/png": "[encoded data removed]",
      "text/plain": [
       "<Figure size 1080x540 with 1 Axes>"
      ]
     },
     "metadata": {},
     "output_type": "display_data"
    }
   ],
   "source": [
    "selected_features = SelectKBest(score_func=mutual_info_regression, k='all')\n",
    "selected_features.fit(x_train, y_train)\n",
    "\n",
    "for i in range(len(selected_features.scores_)):\n",
    "\tprint('Feature %d: %f' % (i, selected_features.scores_[i]))\n",
    "plt.bar([i for i in range(len(selected_features.scores_))], selected_features.scores_)\n",
    "plt.show()"
   ]
  },
  {
   "cell_type": "code",
   "execution_count": 1383,
   "metadata": {},
   "outputs": [],
   "source": [
    "selected_features = SelectKBest(score_func=f_regression, k=22)\n",
    "selected_features.fit(x_train, y_train)\n",
    "\n",
    "x_train = selected_features.transform(x_train)\n",
    "x_test = selected_features.transform(x_test)"
   ]
  },
  {
   "cell_type": "markdown",
   "metadata": {},
   "source": [
    "#### Creating Lists for Model Comparison"
   ]
  },
  {
   "cell_type": "code",
   "execution_count": 1384,
   "metadata": {},
   "outputs": [],
   "source": [
    "models = []\n",
    "model_train_accuracies = []\n",
    "model_train_root_mean_squared_errors = []\n",
    "model_test_accuracies = []\n",
    "model_test_root_mean_squared_errors = []"
   ]
  },
  {
   "cell_type": "markdown",
   "metadata": {},
   "source": [
    "#### Experimenting with Classifiers"
   ]
  },
  {
   "cell_type": "markdown",
   "metadata": {},
   "source": [
    "##### Linear Regression Regressor"
   ]
  },
  {
   "cell_type": "code",
   "execution_count": 1385,
   "metadata": {},
   "outputs": [
    {
     "name": "stdout",
     "output_type": "stream",
     "text": [
      "Fitting 10 folds for each of 16 candidates, totalling 160 fits\n",
      "{'regressor__copy_X': True, 'regressor__fit_intercept': True, 'regressor__normalize': True, 'scaler__with_std': True}\n",
      "Train Accuracy Score:  0.709662474520427\n",
      "Train RMSE score:  661.5995725212177\n",
      "Test Accuracy Score:  0.6817048083892372\n",
      "Test RMSE score:  679.5647934787628\n"
     ]
    }
   ],
   "source": [
    "from sklearn.linear_model import LinearRegression\n",
    "\n",
    "lr_model = LinearRegression()\n",
    "lr_pipe = Pipeline(steps=[('scaler', sc), ('regressor', lr_model)])\n",
    "lr_param_grid = {\n",
    "    'scaler__with_std': [True, False],\n",
    "    'regressor__normalize': [True, False],\n",
    "    'regressor__fit_intercept': [True, False],\n",
    "    'regressor__copy_X': [True, False],\n",
    "}\n",
    "lr_model = GridSearchCV(lr_pipe, lr_param_grid, cv=10, verbose=1, n_jobs=-1)\n",
    "lr_model.fit(x_train, y_train)\n",
    "print(lr_model.best_params_)\n",
    "\n",
    "lr_train = lr_model.predict(x_train)\n",
    "lr_train_accuracy = r2_score(y_train, lr_train)\n",
    "print(\"Train Accuracy Score: \", lr_train_accuracy)\n",
    "lr_train_rmse = np.sqrt(mean_squared_error(y_train, lr_train))\n",
    "print(\"Train RMSE score: \", lr_train_rmse)\n",
    "\n",
    "lr_test = lr_model.predict(x_test)\n",
    "lr_test_accuracy = r2_score(y_test, lr_test)\n",
    "print(\"Test Accuracy Score: \", lr_test_accuracy)\n",
    "lr_test_rmse = np.sqrt(mean_squared_error(y_test, lr_test))\n",
    "print(\"Test RMSE score: \", lr_test_rmse)"
   ]
  },
  {
   "cell_type": "markdown",
   "metadata": {},
   "source": [
    "Saving Score and Model"
   ]
  },
  {
   "cell_type": "code",
   "execution_count": 1386,
   "metadata": {},
   "outputs": [],
   "source": [
    "models.append('lr_model')\n",
    "model_train_accuracies.append(lr_train_accuracy)\n",
    "model_test_accuracies.append(lr_test_accuracy)\n",
    "model_train_root_mean_squared_errors.append(lr_train_rmse)\n",
    "model_test_root_mean_squared_errors.append(lr_test_rmse)\n",
    "pickle.dump(lr_model, open(\"lr_regressor_model.p\", \"wb\"))"
   ]
  },
  {
   "cell_type": "markdown",
   "metadata": {},
   "source": [
    "##### SVM Regressor"
   ]
  },
  {
   "cell_type": "code",
   "execution_count": 1387,
   "metadata": {},
   "outputs": [
    {
     "name": "stdout",
     "output_type": "stream",
     "text": [
      "Fitting 10 folds for each of 50 candidates, totalling 500 fits\n",
      "{'regressor__C': 1000, 'regressor__gamma': 0.01, 'scaler__with_std': True}\n",
      "Train Accuracy Score:  0.7690965654836243\n",
      "Train RMSE score:  590.0092586259825\n",
      "Test Accuracy Score:  0.7224162467166781\n",
      "Test RMSE score:  634.6186837411266\n"
     ]
    }
   ],
   "source": [
    "from sklearn.svm import SVR\n",
    "\n",
    "svm_model = SVR()\n",
    "svm_pipe = Pipeline(steps=[('scaler', sc), ('regressor', svm_model)])\n",
    "svm_param_grid = {\n",
    "    \"scaler__with_std\" : [True, False],\n",
    "    \"regressor__C\" : [0.1, 1, 10, 100, 1000],\n",
    "    \"regressor__gamma\" : [1, 0.1, 0.01, 0.001, 0.0001]\n",
    "}\n",
    "svm_model = GridSearchCV(svm_pipe, svm_param_grid, cv=10, verbose=1, n_jobs=-1)\n",
    "svm_model.fit(x_train, y_train)\n",
    "print(svm_model.best_params_)\n",
    "\n",
    "svm_train = svm_model.predict(x_train)\n",
    "svm_train_accuracy = r2_score(y_train, svm_train)\n",
    "print(\"Train Accuracy Score: \", svm_train_accuracy)\n",
    "svm_train_rmse = np.sqrt(mean_squared_error(y_train, svm_train))\n",
    "print(\"Train RMSE score: \", svm_train_rmse)\n",
    "\n",
    "svm_test = svm_model.predict(x_test)\n",
    "svm_test_accuracy = r2_score(y_test, svm_test)\n",
    "print(\"Test Accuracy Score: \", svm_test_accuracy)\n",
    "svm_test_rmse = np.sqrt(mean_squared_error(y_test, svm_test))\n",
    "print(\"Test RMSE score: \", svm_test_rmse)"
   ]
  },
  {
   "cell_type": "markdown",
   "metadata": {},
   "source": [
    "Saving Score and Model"
   ]
  },
  {
   "cell_type": "code",
   "execution_count": 1388,
   "metadata": {},
   "outputs": [],
   "source": [
    "models.append('svm_model')\n",
    "model_train_accuracies.append(svm_train_accuracy)\n",
    "model_test_accuracies.append(svm_test_accuracy)\n",
    "model_train_root_mean_squared_errors.append(svm_train_rmse)\n",
    "model_test_root_mean_squared_errors.append(svm_test_rmse)\n",
    "pickle.dump(svm_model, open(\"svm_regressor_model.p\", \"wb\"))"
   ]
  },
  {
   "cell_type": "markdown",
   "metadata": {},
   "source": [
    "##### Lasso Regressor"
   ]
  },
  {
   "cell_type": "code",
   "execution_count": 1389,
   "metadata": {},
   "outputs": [
    {
     "name": "stdout",
     "output_type": "stream",
     "text": [
      "Fitting 10 folds for each of 20 candidates, totalling 200 fits\n",
      "{'regressor__alpha': 0.9, 'scaler__with_std': True}\n",
      "Train Accuracy Score:  0.7096512090041631\n",
      "Train RMSE score:  661.6124079072641\n",
      "Test Accuracy Score:  0.6815423048023438\n",
      "Test RMSE score:  679.7382450858264\n"
     ]
    }
   ],
   "source": [
    "from sklearn.linear_model import Lasso\n",
    "\n",
    "la_model = Lasso()\n",
    "la_pipe = Pipeline(steps=[('scaler', sc), ('regressor', la_model)])\n",
    "la_param_grid = {\n",
    "    \"scaler__with_std\" : [True, False],\n",
    "    \"regressor__alpha\" : np.arange(0, 1, 0.1)\n",
    "}\n",
    "la_model = GridSearchCV(la_pipe, la_param_grid, cv=10, verbose=1, n_jobs=-1)\n",
    "la_model.fit(x_train, y_train)\n",
    "print(la_model.best_params_)\n",
    "\n",
    "la_train = la_model.predict(x_train)\n",
    "la_train_accuracy = r2_score(y_train, la_train)\n",
    "print(\"Train Accuracy Score: \", la_train_accuracy)\n",
    "la_train_rmse = np.sqrt(mean_squared_error(y_train, la_train))\n",
    "print(\"Train RMSE score: \", la_train_rmse)\n",
    "\n",
    "la_test = la_model.predict(x_test)\n",
    "la_test_accuracy = r2_score(y_test, la_test)\n",
    "print(\"Test Accuracy Score: \", la_test_accuracy)\n",
    "la_test_rmse = np.sqrt(mean_squared_error(y_test, la_test))\n",
    "print(\"Test RMSE score: \", la_test_rmse)"
   ]
  },
  {
   "cell_type": "markdown",
   "metadata": {},
   "source": [
    "Saving Score and Model"
   ]
  },
  {
   "cell_type": "code",
   "execution_count": 1390,
   "metadata": {},
   "outputs": [],
   "source": [
    "models.append('la_model')\n",
    "model_train_accuracies.append(la_train_accuracy)\n",
    "model_test_accuracies.append(la_test_accuracy)\n",
    "model_train_root_mean_squared_errors.append(la_train_rmse)\n",
    "model_test_root_mean_squared_errors.append(la_test_rmse)\n",
    "pickle.dump(la_model, open(\"la_regressor_model.p\", \"wb\"))"
   ]
  },
  {
   "cell_type": "markdown",
   "metadata": {},
   "source": [
    "##### SGD Regressor"
   ]
  },
  {
   "cell_type": "code",
   "execution_count": 1391,
   "metadata": {},
   "outputs": [
    {
     "name": "stdout",
     "output_type": "stream",
     "text": [
      "Fitting 10 folds for each of 270 candidates, totalling 2700 fits\n",
      "{'regressor__alpha': 1e-05, 'regressor__learning_rate': 'invscaling', 'regressor__loss': 'squared_loss', 'regressor__penalty': 'l2', 'scaler__with_std': True}\n",
      "Train Accuracy Score:  0.7081747789348345\n",
      "Train RMSE score:  663.292431791088\n",
      "Test Accuracy Score:  0.6739635185255066\n",
      "Test RMSE score:  687.7790310657771\n"
     ]
    }
   ],
   "source": [
    "from sklearn.linear_model import SGDRegressor\n",
    "\n",
    "sgd_model = SGDRegressor()\n",
    "sgd_pipe = Pipeline(steps=[('scaler', sc), ('regressor', sgd_model)])\n",
    "sgd_param_grid = {\n",
    "    \"scaler__with_std\" : [True, False],\n",
    "    'regressor__alpha': [0.1, 0.01, 0.001, 0.0001, 0.00001],\n",
    "    'regressor__loss': ['squared_loss', 'huber', 'epsilon_insensitive'],\n",
    "    'regressor__penalty': ['l2', 'l1', 'elasticnet'],\n",
    "    'regressor__learning_rate': ['constant', 'optimal', 'invscaling'],\n",
    "}\n",
    "sgd_model = GridSearchCV(sgd_pipe, sgd_param_grid, cv=10, verbose=1, n_jobs=-1)\n",
    "sgd_model.fit(x_train, y_train)\n",
    "print(sgd_model.best_params_)\n",
    "\n",
    "sgd_train = sgd_model.predict(x_train)\n",
    "sgd_train_accuracy = r2_score(y_train, sgd_train)\n",
    "print(\"Train Accuracy Score: \", sgd_train_accuracy)\n",
    "sgd_train_rmse = np.sqrt(mean_squared_error(y_train, sgd_train))\n",
    "print(\"Train RMSE score: \", sgd_train_rmse)\n",
    "\n",
    "sgd_test = sgd_model.predict(x_test)\n",
    "sgd_test_accuracy = r2_score(y_test, sgd_test)\n",
    "print(\"Test Accuracy Score: \", sgd_test_accuracy)\n",
    "sgd_test_rmse = np.sqrt(mean_squared_error(y_test, sgd_test))\n",
    "print(\"Test RMSE score: \", sgd_test_rmse)"
   ]
  },
  {
   "cell_type": "markdown",
   "metadata": {},
   "source": [
    "Saving Score and Model"
   ]
  },
  {
   "cell_type": "code",
   "execution_count": 1392,
   "metadata": {},
   "outputs": [],
   "source": [
    "models.append('sgd_model')\n",
    "model_train_accuracies.append(sgd_train_accuracy)\n",
    "model_test_accuracies.append(sgd_test_accuracy)\n",
    "model_train_root_mean_squared_errors.append(sgd_train_rmse)\n",
    "model_test_root_mean_squared_errors.append(sgd_test_rmse)\n",
    "pickle.dump(sgd_model, open(\"sgd_regressor_model.p\", \"wb\"))"
   ]
  },
  {
   "cell_type": "markdown",
   "metadata": {},
   "source": [
    "#### Comparison"
   ]
  },
  {
   "cell_type": "code",
   "execution_count": 1393,
   "metadata": {},
   "outputs": [
    {
     "data": {
      "text/html": [
       "<div>\n",
       "<style scoped>\n",
       "    .dataframe tbody tr th:only-of-type {\n",
       "        vertical-align: middle;\n",
       "    }\n",
       "\n",
       "    .dataframe tbody tr th {\n",
       "        vertical-align: top;\n",
       "    }\n",
       "\n",
       "    .dataframe thead th {\n",
       "        text-align: right;\n",
       "    }\n",
       "</style>\n",
       "<table border=\"1\" class=\"dataframe\">\n",
       "  <thead>\n",
       "    <tr style=\"text-align: right;\">\n",
       "      <th></th>\n",
       "      <th>Model</th>\n",
       "      <th>Train Accuracy</th>\n",
       "      <th>Train RMSE</th>\n",
       "      <th>Test Accuracy</th>\n",
       "      <th>Test RMSE</th>\n",
       "    </tr>\n",
       "  </thead>\n",
       "  <tbody>\n",
       "    <tr>\n",
       "      <th>0</th>\n",
       "      <td>lr_model</td>\n",
       "      <td>0.709662</td>\n",
       "      <td>661.599573</td>\n",
       "      <td>0.681705</td>\n",
       "      <td>679.564793</td>\n",
       "    </tr>\n",
       "    <tr>\n",
       "      <th>1</th>\n",
       "      <td>svm_model</td>\n",
       "      <td>0.769097</td>\n",
       "      <td>590.009259</td>\n",
       "      <td>0.722416</td>\n",
       "      <td>634.618684</td>\n",
       "    </tr>\n",
       "    <tr>\n",
       "      <th>2</th>\n",
       "      <td>la_model</td>\n",
       "      <td>0.709651</td>\n",
       "      <td>661.612408</td>\n",
       "      <td>0.681542</td>\n",
       "      <td>679.738245</td>\n",
       "    </tr>\n",
       "    <tr>\n",
       "      <th>3</th>\n",
       "      <td>sgd_model</td>\n",
       "      <td>0.708175</td>\n",
       "      <td>663.292432</td>\n",
       "      <td>0.673964</td>\n",
       "      <td>687.779031</td>\n",
       "    </tr>\n",
       "  </tbody>\n",
       "</table>\n",
       "</div>"
      ],
      "text/plain": [
       "       Model  Train Accuracy  Train RMSE  Test Accuracy   Test RMSE\n",
       "0   lr_model        0.709662  661.599573       0.681705  679.564793\n",
       "1  svm_model        0.769097  590.009259       0.722416  634.618684\n",
       "2   la_model        0.709651  661.612408       0.681542  679.738245\n",
       "3  sgd_model        0.708175  663.292432       0.673964  687.779031"
      ]
     },
     "execution_count": 1393,
     "metadata": {},
     "output_type": "execute_result"
    }
   ],
   "source": [
    "model_comparison = pd.DataFrame()\n",
    "model_comparison['Model'] = models\n",
    "model_comparison['Train Accuracy'] = model_train_accuracies\n",
    "model_comparison['Train RMSE'] = model_train_root_mean_squared_errors\n",
    "model_comparison['Test Accuracy'] = model_test_accuracies\n",
    "model_comparison['Test RMSE'] = model_test_root_mean_squared_errors\n",
    "model_comparison"
   ]
  },
  {
   "cell_type": "code",
   "execution_count": 1394,
   "metadata": {},
   "outputs": [
    {
     "data": {
      "image/png": "[encoded data removed]",
      "text/plain": [
       "<Figure size 1080x540 with 1 Axes>"
      ]
     },
     "metadata": {},
     "output_type": "display_data"
    }
   ],
   "source": [
    "plt.plot(model_comparison['Model'], model_comparison['Train Accuracy'], label = \"Train Accuracy\")\n",
    "plt.plot(model_comparison['Model'], model_comparison['Test Accuracy'], label = \"Test Accuracy\")\n",
    "plt.legend()\n",
    "plt.show()"
   ]
  },
  {
   "cell_type": "code",
   "execution_count": 1395,
   "metadata": {},
   "outputs": [
    {
     "data": {
      "image/png": "[encoded data removed]",
      "text/plain": [
       "<Figure size 1080x540 with 1 Axes>"
      ]
     },
     "metadata": {},
     "output_type": "display_data"
    }
   ],
   "source": [
    "plt.plot(model_comparison['Model'], model_comparison['Train RMSE'], label = \"Train RMSE\")\n",
    "plt.plot(model_comparison['Model'], model_comparison['Test RMSE'], label = \"Test RMSE\")\n",
    "plt.legend()\n",
    "plt.show()"
   ]
  },
  {
   "cell_type": "markdown",
   "metadata": {},
   "source": [
    "#### Selecting a Model"
   ]
  },
  {
   "cell_type": "code",
   "execution_count": 1404,
   "metadata": {},
   "outputs": [],
   "source": [
    "# model = pickle.load(open(\"svm_regressor_model.p\", \"rb\"))\n",
    "model = svm_model    # using this as extra files are not allowed in the moodle submission"
   ]
  },
  {
   "cell_type": "markdown",
   "metadata": {},
   "source": [
    "## Part B"
   ]
  },
  {
   "cell_type": "markdown",
   "metadata": {},
   "source": [
    "#### Importing Testing Data"
   ]
  },
  {
   "cell_type": "code",
   "execution_count": 1405,
   "metadata": {},
   "outputs": [
    {
     "data": {
      "text/html": [
       "<div>\n",
       "<style scoped>\n",
       "    .dataframe tbody tr th:only-of-type {\n",
       "        vertical-align: middle;\n",
       "    }\n",
       "\n",
       "    .dataframe tbody tr th {\n",
       "        vertical-align: top;\n",
       "    }\n",
       "\n",
       "    .dataframe thead th {\n",
       "        text-align: right;\n",
       "    }\n",
       "</style>\n",
       "<table border=\"1\" class=\"dataframe\">\n",
       "  <thead>\n",
       "    <tr style=\"text-align: right;\">\n",
       "      <th></th>\n",
       "      <th>F1</th>\n",
       "      <th>F2</th>\n",
       "      <th>F3</th>\n",
       "      <th>F4</th>\n",
       "      <th>F5</th>\n",
       "      <th>F6</th>\n",
       "      <th>F7</th>\n",
       "      <th>F8</th>\n",
       "      <th>F9</th>\n",
       "      <th>F10</th>\n",
       "      <th>...</th>\n",
       "      <th>F27</th>\n",
       "      <th>F28</th>\n",
       "      <th>F29</th>\n",
       "      <th>F30</th>\n",
       "      <th>F31</th>\n",
       "      <th>F32</th>\n",
       "      <th>F33</th>\n",
       "      <th>F34</th>\n",
       "      <th>F35</th>\n",
       "      <th>F36</th>\n",
       "    </tr>\n",
       "  </thead>\n",
       "  <tbody>\n",
       "    <tr>\n",
       "      <th>0</th>\n",
       "      <td>293.42</td>\n",
       "      <td>126.36</td>\n",
       "      <td>Europe</td>\n",
       "      <td>-23.90</td>\n",
       "      <td>3012.33</td>\n",
       "      <td>-196.64</td>\n",
       "      <td>-15368.82</td>\n",
       "      <td>112.52</td>\n",
       "      <td>1029.51</td>\n",
       "      <td>9.40</td>\n",
       "      <td>...</td>\n",
       "      <td>1101.42</td>\n",
       "      <td>1113.48</td>\n",
       "      <td>358.83</td>\n",
       "      <td>-8406.72</td>\n",
       "      <td>2.52</td>\n",
       "      <td>-94.58</td>\n",
       "      <td>214.96</td>\n",
       "      <td>-191.24</td>\n",
       "      <td>875.31</td>\n",
       "      <td>7</td>\n",
       "    </tr>\n",
       "    <tr>\n",
       "      <th>1</th>\n",
       "      <td>242.26</td>\n",
       "      <td>49.12</td>\n",
       "      <td>Rest</td>\n",
       "      <td>-17.56</td>\n",
       "      <td>2485.47</td>\n",
       "      <td>5.10</td>\n",
       "      <td>-38092.89</td>\n",
       "      <td>25.94</td>\n",
       "      <td>522.92</td>\n",
       "      <td>11.82</td>\n",
       "      <td>...</td>\n",
       "      <td>739.58</td>\n",
       "      <td>1336.84</td>\n",
       "      <td>95.70</td>\n",
       "      <td>-6739.56</td>\n",
       "      <td>5.46</td>\n",
       "      <td>-20.49</td>\n",
       "      <td>122.34</td>\n",
       "      <td>-165.19</td>\n",
       "      <td>778.98</td>\n",
       "      <td>5</td>\n",
       "    </tr>\n",
       "    <tr>\n",
       "      <th>2</th>\n",
       "      <td>130.54</td>\n",
       "      <td>62.32</td>\n",
       "      <td>Rest</td>\n",
       "      <td>-27.34</td>\n",
       "      <td>1973.40</td>\n",
       "      <td>1.98</td>\n",
       "      <td>-21792.75</td>\n",
       "      <td>89.28</td>\n",
       "      <td>551.56</td>\n",
       "      <td>12.51</td>\n",
       "      <td>...</td>\n",
       "      <td>113.28</td>\n",
       "      <td>2011.40</td>\n",
       "      <td>336.66</td>\n",
       "      <td>-5784.03</td>\n",
       "      <td>5.18</td>\n",
       "      <td>-33.16</td>\n",
       "      <td>257.62</td>\n",
       "      <td>-165.89</td>\n",
       "      <td>688.42</td>\n",
       "      <td>4</td>\n",
       "    </tr>\n",
       "    <tr>\n",
       "      <th>3</th>\n",
       "      <td>171.62</td>\n",
       "      <td>144.70</td>\n",
       "      <td>Rest</td>\n",
       "      <td>-20.70</td>\n",
       "      <td>2167.92</td>\n",
       "      <td>-20.82</td>\n",
       "      <td>-10528.14</td>\n",
       "      <td>91.22</td>\n",
       "      <td>1207.56</td>\n",
       "      <td>12.88</td>\n",
       "      <td>...</td>\n",
       "      <td>1289.56</td>\n",
       "      <td>2534.52</td>\n",
       "      <td>282.03</td>\n",
       "      <td>-6799.92</td>\n",
       "      <td>0.60</td>\n",
       "      <td>-25.08</td>\n",
       "      <td>190.10</td>\n",
       "      <td>-74.90</td>\n",
       "      <td>1075.49</td>\n",
       "      <td>2</td>\n",
       "    </tr>\n",
       "    <tr>\n",
       "      <th>4</th>\n",
       "      <td>155.78</td>\n",
       "      <td>-202.92</td>\n",
       "      <td>Rest</td>\n",
       "      <td>-24.86</td>\n",
       "      <td>2657.28</td>\n",
       "      <td>17.24</td>\n",
       "      <td>-23577.09</td>\n",
       "      <td>75.84</td>\n",
       "      <td>425.77</td>\n",
       "      <td>6.35</td>\n",
       "      <td>...</td>\n",
       "      <td>22.98</td>\n",
       "      <td>2788.68</td>\n",
       "      <td>337.71</td>\n",
       "      <td>-5896.68</td>\n",
       "      <td>1.87</td>\n",
       "      <td>14.65</td>\n",
       "      <td>188.12</td>\n",
       "      <td>-202.21</td>\n",
       "      <td>575.51</td>\n",
       "      <td>1</td>\n",
       "    </tr>\n",
       "    <tr>\n",
       "      <th>...</th>\n",
       "      <td>...</td>\n",
       "      <td>...</td>\n",
       "      <td>...</td>\n",
       "      <td>...</td>\n",
       "      <td>...</td>\n",
       "      <td>...</td>\n",
       "      <td>...</td>\n",
       "      <td>...</td>\n",
       "      <td>...</td>\n",
       "      <td>...</td>\n",
       "      <td>...</td>\n",
       "      <td>...</td>\n",
       "      <td>...</td>\n",
       "      <td>...</td>\n",
       "      <td>...</td>\n",
       "      <td>...</td>\n",
       "      <td>...</td>\n",
       "      <td>...</td>\n",
       "      <td>...</td>\n",
       "      <td>...</td>\n",
       "      <td>...</td>\n",
       "    </tr>\n",
       "    <tr>\n",
       "      <th>1495</th>\n",
       "      <td>283.66</td>\n",
       "      <td>20.72</td>\n",
       "      <td>USA</td>\n",
       "      <td>-24.14</td>\n",
       "      <td>2058.24</td>\n",
       "      <td>96.78</td>\n",
       "      <td>-39055.41</td>\n",
       "      <td>159.54</td>\n",
       "      <td>1122.08</td>\n",
       "      <td>11.89</td>\n",
       "      <td>...</td>\n",
       "      <td>916.24</td>\n",
       "      <td>2087.92</td>\n",
       "      <td>193.35</td>\n",
       "      <td>-6083.94</td>\n",
       "      <td>8.77</td>\n",
       "      <td>-12.14</td>\n",
       "      <td>155.32</td>\n",
       "      <td>-150.34</td>\n",
       "      <td>576.03</td>\n",
       "      <td>3</td>\n",
       "    </tr>\n",
       "    <tr>\n",
       "      <th>1496</th>\n",
       "      <td>185.44</td>\n",
       "      <td>-15.20</td>\n",
       "      <td>Rest</td>\n",
       "      <td>-19.70</td>\n",
       "      <td>2029.80</td>\n",
       "      <td>127.30</td>\n",
       "      <td>-31133.58</td>\n",
       "      <td>58.56</td>\n",
       "      <td>658.80</td>\n",
       "      <td>7.22</td>\n",
       "      <td>...</td>\n",
       "      <td>624.70</td>\n",
       "      <td>1649.20</td>\n",
       "      <td>345.66</td>\n",
       "      <td>-6640.68</td>\n",
       "      <td>4.77</td>\n",
       "      <td>-2.77</td>\n",
       "      <td>147.52</td>\n",
       "      <td>-202.54</td>\n",
       "      <td>518.00</td>\n",
       "      <td>6</td>\n",
       "    </tr>\n",
       "    <tr>\n",
       "      <th>1497</th>\n",
       "      <td>134.28</td>\n",
       "      <td>35.72</td>\n",
       "      <td>UK</td>\n",
       "      <td>-19.58</td>\n",
       "      <td>1999.17</td>\n",
       "      <td>-6.58</td>\n",
       "      <td>-9067.11</td>\n",
       "      <td>51.84</td>\n",
       "      <td>1211.30</td>\n",
       "      <td>8.34</td>\n",
       "      <td>...</td>\n",
       "      <td>1936.60</td>\n",
       "      <td>1337.98</td>\n",
       "      <td>261.87</td>\n",
       "      <td>-6276.60</td>\n",
       "      <td>4.21</td>\n",
       "      <td>-15.89</td>\n",
       "      <td>173.84</td>\n",
       "      <td>-146.91</td>\n",
       "      <td>1289.64</td>\n",
       "      <td>4</td>\n",
       "    </tr>\n",
       "    <tr>\n",
       "      <th>1498</th>\n",
       "      <td>211.72</td>\n",
       "      <td>20.28</td>\n",
       "      <td>Europe</td>\n",
       "      <td>-18.54</td>\n",
       "      <td>1786.62</td>\n",
       "      <td>-42.66</td>\n",
       "      <td>-13774.95</td>\n",
       "      <td>72.30</td>\n",
       "      <td>439.74</td>\n",
       "      <td>4.75</td>\n",
       "      <td>...</td>\n",
       "      <td>237.94</td>\n",
       "      <td>2017.32</td>\n",
       "      <td>342.06</td>\n",
       "      <td>-5753.85</td>\n",
       "      <td>4.60</td>\n",
       "      <td>81.44</td>\n",
       "      <td>234.02</td>\n",
       "      <td>-153.12</td>\n",
       "      <td>637.53</td>\n",
       "      <td>6</td>\n",
       "    </tr>\n",
       "    <tr>\n",
       "      <th>1499</th>\n",
       "      <td>274.72</td>\n",
       "      <td>35.82</td>\n",
       "      <td>Europe</td>\n",
       "      <td>-22.88</td>\n",
       "      <td>3927.96</td>\n",
       "      <td>28.04</td>\n",
       "      <td>-26389.47</td>\n",
       "      <td>66.66</td>\n",
       "      <td>743.56</td>\n",
       "      <td>10.64</td>\n",
       "      <td>...</td>\n",
       "      <td>808.42</td>\n",
       "      <td>1424.14</td>\n",
       "      <td>319.14</td>\n",
       "      <td>-5575.59</td>\n",
       "      <td>8.23</td>\n",
       "      <td>-2.23</td>\n",
       "      <td>150.42</td>\n",
       "      <td>-79.05</td>\n",
       "      <td>689.96</td>\n",
       "      <td>6</td>\n",
       "    </tr>\n",
       "  </tbody>\n",
       "</table>\n",
       "<p>1500 rows × 36 columns</p>\n",
       "</div>"
      ],
      "text/plain": [
       "          F1      F2      F3     F4       F5      F6        F7      F8  \\\n",
       "0     293.42  126.36  Europe -23.90  3012.33 -196.64 -15368.82  112.52   \n",
       "1     242.26   49.12    Rest -17.56  2485.47    5.10 -38092.89   25.94   \n",
       "2     130.54   62.32    Rest -27.34  1973.40    1.98 -21792.75   89.28   \n",
       "3     171.62  144.70    Rest -20.70  2167.92  -20.82 -10528.14   91.22   \n",
       "4     155.78 -202.92    Rest -24.86  2657.28   17.24 -23577.09   75.84   \n",
       "...      ...     ...     ...    ...      ...     ...       ...     ...   \n",
       "1495  283.66   20.72     USA -24.14  2058.24   96.78 -39055.41  159.54   \n",
       "1496  185.44  -15.20    Rest -19.70  2029.80  127.30 -31133.58   58.56   \n",
       "1497  134.28   35.72      UK -19.58  1999.17   -6.58  -9067.11   51.84   \n",
       "1498  211.72   20.28  Europe -18.54  1786.62  -42.66 -13774.95   72.30   \n",
       "1499  274.72   35.82  Europe -22.88  3927.96   28.04 -26389.47   66.66   \n",
       "\n",
       "           F9    F10  ...      F27      F28     F29      F30   F31    F32  \\\n",
       "0     1029.51   9.40  ...  1101.42  1113.48  358.83 -8406.72  2.52 -94.58   \n",
       "1      522.92  11.82  ...   739.58  1336.84   95.70 -6739.56  5.46 -20.49   \n",
       "2      551.56  12.51  ...   113.28  2011.40  336.66 -5784.03  5.18 -33.16   \n",
       "3     1207.56  12.88  ...  1289.56  2534.52  282.03 -6799.92  0.60 -25.08   \n",
       "4      425.77   6.35  ...    22.98  2788.68  337.71 -5896.68  1.87  14.65   \n",
       "...       ...    ...  ...      ...      ...     ...      ...   ...    ...   \n",
       "1495  1122.08  11.89  ...   916.24  2087.92  193.35 -6083.94  8.77 -12.14   \n",
       "1496   658.80   7.22  ...   624.70  1649.20  345.66 -6640.68  4.77  -2.77   \n",
       "1497  1211.30   8.34  ...  1936.60  1337.98  261.87 -6276.60  4.21 -15.89   \n",
       "1498   439.74   4.75  ...   237.94  2017.32  342.06 -5753.85  4.60  81.44   \n",
       "1499   743.56  10.64  ...   808.42  1424.14  319.14 -5575.59  8.23  -2.23   \n",
       "\n",
       "         F33     F34      F35  F36  \n",
       "0     214.96 -191.24   875.31    7  \n",
       "1     122.34 -165.19   778.98    5  \n",
       "2     257.62 -165.89   688.42    4  \n",
       "3     190.10  -74.90  1075.49    2  \n",
       "4     188.12 -202.21   575.51    1  \n",
       "...      ...     ...      ...  ...  \n",
       "1495  155.32 -150.34   576.03    3  \n",
       "1496  147.52 -202.54   518.00    6  \n",
       "1497  173.84 -146.91  1289.64    4  \n",
       "1498  234.02 -153.12   637.53    6  \n",
       "1499  150.42  -79.05   689.96    6  \n",
       "\n",
       "[1500 rows x 36 columns]"
      ]
     },
     "execution_count": 1405,
     "metadata": {},
     "output_type": "execute_result"
    }
   ],
   "source": [
    "test_df = pd.read_csv('CE802_P3_Test.csv')\n",
    "test_data = test_df.iloc[:,:-1].copy()\n",
    "test_data"
   ]
  },
  {
   "cell_type": "markdown",
   "metadata": {},
   "source": [
    "#### Data Preparation (Part One)"
   ]
  },
  {
   "cell_type": "code",
   "execution_count": 1406,
   "metadata": {},
   "outputs": [
    {
     "data": {
      "text/html": [
       "<div>\n",
       "<style scoped>\n",
       "    .dataframe tbody tr th:only-of-type {\n",
       "        vertical-align: middle;\n",
       "    }\n",
       "\n",
       "    .dataframe tbody tr th {\n",
       "        vertical-align: top;\n",
       "    }\n",
       "\n",
       "    .dataframe thead th {\n",
       "        text-align: right;\n",
       "    }\n",
       "</style>\n",
       "<table border=\"1\" class=\"dataframe\">\n",
       "  <thead>\n",
       "    <tr style=\"text-align: right;\">\n",
       "      <th></th>\n",
       "      <th>F3_Europe</th>\n",
       "      <th>F3_Rest</th>\n",
       "      <th>F3_UK</th>\n",
       "      <th>F3_USA</th>\n",
       "    </tr>\n",
       "  </thead>\n",
       "  <tbody>\n",
       "    <tr>\n",
       "      <th>0</th>\n",
       "      <td>1</td>\n",
       "      <td>0</td>\n",
       "      <td>0</td>\n",
       "      <td>0</td>\n",
       "    </tr>\n",
       "    <tr>\n",
       "      <th>1</th>\n",
       "      <td>0</td>\n",
       "      <td>1</td>\n",
       "      <td>0</td>\n",
       "      <td>0</td>\n",
       "    </tr>\n",
       "    <tr>\n",
       "      <th>2</th>\n",
       "      <td>0</td>\n",
       "      <td>1</td>\n",
       "      <td>0</td>\n",
       "      <td>0</td>\n",
       "    </tr>\n",
       "    <tr>\n",
       "      <th>3</th>\n",
       "      <td>0</td>\n",
       "      <td>1</td>\n",
       "      <td>0</td>\n",
       "      <td>0</td>\n",
       "    </tr>\n",
       "    <tr>\n",
       "      <th>4</th>\n",
       "      <td>0</td>\n",
       "      <td>1</td>\n",
       "      <td>0</td>\n",
       "      <td>0</td>\n",
       "    </tr>\n",
       "    <tr>\n",
       "      <th>...</th>\n",
       "      <td>...</td>\n",
       "      <td>...</td>\n",
       "      <td>...</td>\n",
       "      <td>...</td>\n",
       "    </tr>\n",
       "    <tr>\n",
       "      <th>1495</th>\n",
       "      <td>0</td>\n",
       "      <td>0</td>\n",
       "      <td>0</td>\n",
       "      <td>1</td>\n",
       "    </tr>\n",
       "    <tr>\n",
       "      <th>1496</th>\n",
       "      <td>0</td>\n",
       "      <td>1</td>\n",
       "      <td>0</td>\n",
       "      <td>0</td>\n",
       "    </tr>\n",
       "    <tr>\n",
       "      <th>1497</th>\n",
       "      <td>0</td>\n",
       "      <td>0</td>\n",
       "      <td>1</td>\n",
       "      <td>0</td>\n",
       "    </tr>\n",
       "    <tr>\n",
       "      <th>1498</th>\n",
       "      <td>1</td>\n",
       "      <td>0</td>\n",
       "      <td>0</td>\n",
       "      <td>0</td>\n",
       "    </tr>\n",
       "    <tr>\n",
       "      <th>1499</th>\n",
       "      <td>1</td>\n",
       "      <td>0</td>\n",
       "      <td>0</td>\n",
       "      <td>0</td>\n",
       "    </tr>\n",
       "  </tbody>\n",
       "</table>\n",
       "<p>1500 rows × 4 columns</p>\n",
       "</div>"
      ],
      "text/plain": [
       "      F3_Europe  F3_Rest  F3_UK  F3_USA\n",
       "0             1        0      0       0\n",
       "1             0        1      0       0\n",
       "2             0        1      0       0\n",
       "3             0        1      0       0\n",
       "4             0        1      0       0\n",
       "...         ...      ...    ...     ...\n",
       "1495          0        0      0       1\n",
       "1496          0        1      0       0\n",
       "1497          0        0      1       0\n",
       "1498          1        0      0       0\n",
       "1499          1        0      0       0\n",
       "\n",
       "[1500 rows x 4 columns]"
      ]
     },
     "execution_count": 1406,
     "metadata": {},
     "output_type": "execute_result"
    }
   ],
   "source": [
    "test_data = pd.get_dummies(test_data, columns=['F3'])\n",
    "test_data.loc[:, test_data.columns.str.startswith(\"F3_\")]"
   ]
  },
  {
   "cell_type": "code",
   "execution_count": 1407,
   "metadata": {},
   "outputs": [
    {
     "data": {
      "text/plain": [
       "0       2\n",
       "1       4\n",
       "2       1\n",
       "3       3\n",
       "4       4\n",
       "       ..\n",
       "1495    0\n",
       "1496    1\n",
       "1497    3\n",
       "1498    0\n",
       "1499    3\n",
       "Name: F11, Length: 1500, dtype: int64"
      ]
     },
     "execution_count": 1407,
     "metadata": {},
     "output_type": "execute_result"
    }
   ],
   "source": [
    "test_data.replace(cleanup, inplace=True)\n",
    "test_data['F11']"
   ]
  },
  {
   "cell_type": "markdown",
   "metadata": {},
   "source": [
    "#### Testing Data Pre-Processing"
   ]
  },
  {
   "cell_type": "markdown",
   "metadata": {},
   "source": [
    "##### Missing Data"
   ]
  },
  {
   "cell_type": "markdown",
   "metadata": {},
   "source": [
    "Checking for Missing Data"
   ]
  },
  {
   "cell_type": "code",
   "execution_count": 1408,
   "metadata": {},
   "outputs": [
    {
     "data": {
      "text/plain": [
       "F1           0\n",
       "F2           0\n",
       "F4           0\n",
       "F5           0\n",
       "F6           0\n",
       "F7           0\n",
       "F8           0\n",
       "F9           0\n",
       "F10          0\n",
       "F11          0\n",
       "F12          0\n",
       "F13          0\n",
       "F14          0\n",
       "F15          0\n",
       "F16          0\n",
       "F17          0\n",
       "F18          0\n",
       "F19          0\n",
       "F20          0\n",
       "F21          0\n",
       "F22          0\n",
       "F23          0\n",
       "F24          0\n",
       "F25          0\n",
       "F26          0\n",
       "F27          0\n",
       "F28          0\n",
       "F29          0\n",
       "F30          0\n",
       "F31          0\n",
       "F32          0\n",
       "F33          0\n",
       "F34          0\n",
       "F35          0\n",
       "F36          0\n",
       "F3_Europe    0\n",
       "F3_Rest      0\n",
       "F3_UK        0\n",
       "F3_USA       0\n",
       "dtype: int64"
      ]
     },
     "execution_count": 1408,
     "metadata": {},
     "output_type": "execute_result"
    }
   ],
   "source": [
    "test_data.isna().sum()"
   ]
  },
  {
   "cell_type": "markdown",
   "metadata": {},
   "source": [
    "No Missing Data"
   ]
  },
  {
   "cell_type": "markdown",
   "metadata": {},
   "source": [
    "#### Data Preparation (Part Two)"
   ]
  },
  {
   "cell_type": "markdown",
   "metadata": {},
   "source": [
    "##### Feature Selection"
   ]
  },
  {
   "cell_type": "code",
   "execution_count": 1409,
   "metadata": {},
   "outputs": [],
   "source": [
    "test_data = selected_features.transform(test_data)"
   ]
  },
  {
   "cell_type": "markdown",
   "metadata": {},
   "source": [
    "#### Making Predictions"
   ]
  },
  {
   "cell_type": "code",
   "execution_count": 1410,
   "metadata": {},
   "outputs": [],
   "source": [
    "predicted = model.predict(test_data)\n",
    "test_df.iloc[:,-1] = predicted"
   ]
  },
  {
   "cell_type": "markdown",
   "metadata": {},
   "source": [
    "#### Saving Predictions"
   ]
  },
  {
   "cell_type": "code",
   "execution_count": 1411,
   "metadata": {},
   "outputs": [],
   "source": [
    "test_df.to_csv('CE802_P3_Test_Predictions.csv', index=False, float_format='%.8g')\n",
    "assert pd.read_csv('CE802_P3_Test.csv').iloc[:,:-1].equals(pd.read_csv('CE802_P3_Test_Predictions.csv').iloc[:,:-1])"
   ]
  }
 ],
 "metadata": {
  "kernelspec": {
   "display_name": "Python 3",
   "language": "python",
   "name": "python3"
  },
  "language_info": {
   "codemirror_mode": {
    "name": "ipython",
    "version": 3
   },
   "file_extension": ".py",
   "mimetype": "text/x-python",
   "name": "python",
   "nbconvert_exporter": "python",
   "pygments_lexer": "ipython3",
   "version": "3.8.0"
  }
 },
 "nbformat": 4,
 "nbformat_minor": 4
}
